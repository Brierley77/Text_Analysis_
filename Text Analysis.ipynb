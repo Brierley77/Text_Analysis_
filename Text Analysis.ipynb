{
 "cells": [
  {
   "cell_type": "markdown",
   "metadata": {},
   "source": [
    "# Text Analysis using Python "
   ]
  },
  {
   "cell_type": "code",
   "execution_count": 52,
   "metadata": {},
   "outputs": [],
   "source": [
    "# we will explore a data set of tweets that include @apple"
   ]
  },
  {
   "cell_type": "code",
   "execution_count": 53,
   "metadata": {},
   "outputs": [],
   "source": [
    "# import libraries \n",
    "\n",
    "import pandas as pd \n",
    "\n",
    "import nltk  # for NLP - natural language tool kit\n",
    "\n",
    "from nltk.tokenize import word_tokenize  # splits the text into tokens \n",
    "\n",
    "from nltk.corpus import stopwords # removes non-useful words \n",
    "\n",
    "from sklearn.feature_extraction.text import CountVectorizer # converts text into document-term matrices\n",
    "\n",
    "import seaborn as sns \n",
    "\n",
    "import matplotlib.pyplot as plt \n",
    "\n",
    "import wordcloud\n",
    "\n",
    "from wordcloud import WordCloud\n",
    "\n",
    "from textblob import TextBlob"
   ]
  },
  {
   "cell_type": "code",
   "execution_count": 54,
   "metadata": {},
   "outputs": [
    {
     "name": "stderr",
     "output_type": "stream",
     "text": [
      "[nltk_data] Downloading package punkt to\n",
      "[nltk_data]     C:\\Users\\David\\AppData\\Roaming\\nltk_data...\n",
      "[nltk_data]   Package punkt is already up-to-date!\n",
      "[nltk_data] Downloading package stopwords to\n",
      "[nltk_data]     C:\\Users\\David\\AppData\\Roaming\\nltk_data...\n",
      "[nltk_data]   Package stopwords is already up-to-date!\n",
      "[nltk_data] Downloading package wordnet to\n",
      "[nltk_data]     C:\\Users\\David\\AppData\\Roaming\\nltk_data...\n",
      "[nltk_data]   Package wordnet is already up-to-date!\n",
      "[nltk_data] Downloading package averaged_perceptron_tagger to\n",
      "[nltk_data]     C:\\Users\\David\\AppData\\Roaming\\nltk_data...\n",
      "[nltk_data]   Package averaged_perceptron_tagger is already up-to-\n",
      "[nltk_data]       date!\n"
     ]
    },
    {
     "data": {
      "text/plain": [
       "True"
      ]
     },
     "execution_count": 54,
     "metadata": {},
     "output_type": "execute_result"
    }
   ],
   "source": [
    "# Install necessary dependencies from NLTK\n",
    "\n",
    "nltk.download('punkt')\n",
    "nltk.download('stopwords')\n",
    "nltk.download('wordnet')\n",
    "nltk.download('averaged_perceptron_tagger')"
   ]
  },
  {
   "cell_type": "markdown",
   "metadata": {},
   "source": [
    "## Data Sourcing"
   ]
  },
  {
   "cell_type": "code",
   "execution_count": 55,
   "metadata": {},
   "outputs": [],
   "source": [
    "# load our data set\n",
    "\n",
    "tweets = pd.read_csv('apple_tweets.csv')"
   ]
  },
  {
   "cell_type": "markdown",
   "metadata": {},
   "source": [
    "## Data Exploration"
   ]
  },
  {
   "cell_type": "code",
   "execution_count": 56,
   "metadata": {},
   "outputs": [
    {
     "data": {
      "text/html": [
       "<div>\n",
       "<style scoped>\n",
       "    .dataframe tbody tr th:only-of-type {\n",
       "        vertical-align: middle;\n",
       "    }\n",
       "\n",
       "    .dataframe tbody tr th {\n",
       "        vertical-align: top;\n",
       "    }\n",
       "\n",
       "    .dataframe thead th {\n",
       "        text-align: right;\n",
       "    }\n",
       "</style>\n",
       "<table border=\"1\" class=\"dataframe\">\n",
       "  <thead>\n",
       "    <tr style=\"text-align: right;\">\n",
       "      <th></th>\n",
       "      <th>user_id</th>\n",
       "      <th>status_id</th>\n",
       "      <th>created_at</th>\n",
       "      <th>screen_name</th>\n",
       "      <th>text</th>\n",
       "      <th>source</th>\n",
       "      <th>display_text_width</th>\n",
       "      <th>reply_to_status_id</th>\n",
       "      <th>reply_to_user_id</th>\n",
       "      <th>reply_to_screen_name</th>\n",
       "      <th>...</th>\n",
       "      <th>statuses_count</th>\n",
       "      <th>favourites_count</th>\n",
       "      <th>account_created_at</th>\n",
       "      <th>verified</th>\n",
       "      <th>profile_url</th>\n",
       "      <th>profile_expanded_url</th>\n",
       "      <th>account_lang</th>\n",
       "      <th>profile_banner_url</th>\n",
       "      <th>profile_background_url</th>\n",
       "      <th>profile_image_url</th>\n",
       "    </tr>\n",
       "  </thead>\n",
       "  <tbody>\n",
       "    <tr>\n",
       "      <th>0</th>\n",
       "      <td>5746452.0</td>\n",
       "      <td>1.090000e+18</td>\n",
       "      <td>1548799817</td>\n",
       "      <td>waltmossberg</td>\n",
       "      <td>It’s true that @Apple likely overpriced the la...</td>\n",
       "      <td>Twitter for iPad</td>\n",
       "      <td>279</td>\n",
       "      <td>NaN</td>\n",
       "      <td>NaN</td>\n",
       "      <td>NaN</td>\n",
       "      <td>...</td>\n",
       "      <td>21783</td>\n",
       "      <td>31007</td>\n",
       "      <td>1178213411</td>\n",
       "      <td>True</td>\n",
       "      <td>https://t.co/AH9VhHsJmY</td>\n",
       "      <td>http://www.theverge.com/label/walt-mossberg-verge</td>\n",
       "      <td>en</td>\n",
       "      <td>https://pbs.twimg.com/profile_banners/5746452/...</td>\n",
       "      <td>http://abs.twimg.com/images/themes/theme9/bg.gif</td>\n",
       "      <td>http://pbs.twimg.com/profile_images/4637351296...</td>\n",
       "    </tr>\n",
       "    <tr>\n",
       "      <th>1</th>\n",
       "      <td>5746452.0</td>\n",
       "      <td>1.090000e+18</td>\n",
       "      <td>1548800328</td>\n",
       "      <td>waltmossberg</td>\n",
       "      <td>@AaronSuplizio @Apple Yes it is.</td>\n",
       "      <td>Twitter for iPad</td>\n",
       "      <td>10</td>\n",
       "      <td>1.090000e+18</td>\n",
       "      <td>2.365419e+07</td>\n",
       "      <td>AaronSuplizio</td>\n",
       "      <td>...</td>\n",
       "      <td>21783</td>\n",
       "      <td>31007</td>\n",
       "      <td>1178213411</td>\n",
       "      <td>True</td>\n",
       "      <td>https://t.co/AH9VhHsJmY</td>\n",
       "      <td>http://www.theverge.com/label/walt-mossberg-verge</td>\n",
       "      <td>en</td>\n",
       "      <td>https://pbs.twimg.com/profile_banners/5746452/...</td>\n",
       "      <td>http://abs.twimg.com/images/themes/theme9/bg.gif</td>\n",
       "      <td>http://pbs.twimg.com/profile_images/4637351296...</td>\n",
       "    </tr>\n",
       "    <tr>\n",
       "      <th>2</th>\n",
       "      <td>5746452.0</td>\n",
       "      <td>1.090000e+18</td>\n",
       "      <td>1548802301</td>\n",
       "      <td>waltmossberg</td>\n",
       "      <td>@mvigod @Apple As I have said many times here,...</td>\n",
       "      <td>Twitter for iPad</td>\n",
       "      <td>259</td>\n",
       "      <td>1.090000e+18</td>\n",
       "      <td>2.224800e+08</td>\n",
       "      <td>mvigod</td>\n",
       "      <td>...</td>\n",
       "      <td>21783</td>\n",
       "      <td>31007</td>\n",
       "      <td>1178213411</td>\n",
       "      <td>True</td>\n",
       "      <td>https://t.co/AH9VhHsJmY</td>\n",
       "      <td>http://www.theverge.com/label/walt-mossberg-verge</td>\n",
       "      <td>en</td>\n",
       "      <td>https://pbs.twimg.com/profile_banners/5746452/...</td>\n",
       "      <td>http://abs.twimg.com/images/themes/theme9/bg.gif</td>\n",
       "      <td>http://pbs.twimg.com/profile_images/4637351296...</td>\n",
       "    </tr>\n",
       "    <tr>\n",
       "      <th>3</th>\n",
       "      <td>5746452.0</td>\n",
       "      <td>1.090000e+18</td>\n",
       "      <td>1548800242</td>\n",
       "      <td>waltmossberg</td>\n",
       "      <td>I’m not saying that @Apple doesn’t have proble...</td>\n",
       "      <td>Twitter for iPad</td>\n",
       "      <td>270</td>\n",
       "      <td>1.090000e+18</td>\n",
       "      <td>5.746452e+06</td>\n",
       "      <td>waltmossberg</td>\n",
       "      <td>...</td>\n",
       "      <td>21783</td>\n",
       "      <td>31007</td>\n",
       "      <td>1178213411</td>\n",
       "      <td>True</td>\n",
       "      <td>https://t.co/AH9VhHsJmY</td>\n",
       "      <td>http://www.theverge.com/label/walt-mossberg-verge</td>\n",
       "      <td>en</td>\n",
       "      <td>https://pbs.twimg.com/profile_banners/5746452/...</td>\n",
       "      <td>http://abs.twimg.com/images/themes/theme9/bg.gif</td>\n",
       "      <td>http://pbs.twimg.com/profile_images/4637351296...</td>\n",
       "    </tr>\n",
       "    <tr>\n",
       "      <th>4</th>\n",
       "      <td>1175221.0</td>\n",
       "      <td>1.090000e+18</td>\n",
       "      <td>1548737368</td>\n",
       "      <td>digiphile</td>\n",
       "      <td>@DaveLeeBBC @Apple @NYGovCuomo Nor I; saw it g...</td>\n",
       "      <td>Twitter for iPhone</td>\n",
       "      <td>88</td>\n",
       "      <td>1.090000e+18</td>\n",
       "      <td>1.251786e+09</td>\n",
       "      <td>DaveLeeBBC</td>\n",
       "      <td>...</td>\n",
       "      <td>165604</td>\n",
       "      <td>108196</td>\n",
       "      <td>1173899540</td>\n",
       "      <td>True</td>\n",
       "      <td>https://t.co/QWOxhaw2kk</td>\n",
       "      <td>https://digiphile.info/about/</td>\n",
       "      <td>en</td>\n",
       "      <td>https://pbs.twimg.com/profile_banners/1175221/...</td>\n",
       "      <td>http://abs.twimg.com/images/themes/theme15/bg.png</td>\n",
       "      <td>http://pbs.twimg.com/profile_images/1076306605...</td>\n",
       "    </tr>\n",
       "  </tbody>\n",
       "</table>\n",
       "<p>5 rows × 88 columns</p>\n",
       "</div>"
      ],
      "text/plain": [
       "     user_id     status_id  created_at   screen_name  \\\n",
       "0  5746452.0  1.090000e+18  1548799817  waltmossberg   \n",
       "1  5746452.0  1.090000e+18  1548800328  waltmossberg   \n",
       "2  5746452.0  1.090000e+18  1548802301  waltmossberg   \n",
       "3  5746452.0  1.090000e+18  1548800242  waltmossberg   \n",
       "4  1175221.0  1.090000e+18  1548737368     digiphile   \n",
       "\n",
       "                                                text              source  \\\n",
       "0  It’s true that @Apple likely overpriced the la...    Twitter for iPad   \n",
       "1                   @AaronSuplizio @Apple Yes it is.    Twitter for iPad   \n",
       "2  @mvigod @Apple As I have said many times here,...    Twitter for iPad   \n",
       "3  I’m not saying that @Apple doesn’t have proble...    Twitter for iPad   \n",
       "4  @DaveLeeBBC @Apple @NYGovCuomo Nor I; saw it g...  Twitter for iPhone   \n",
       "\n",
       "   display_text_width  reply_to_status_id  reply_to_user_id  \\\n",
       "0                 279                 NaN               NaN   \n",
       "1                  10        1.090000e+18      2.365419e+07   \n",
       "2                 259        1.090000e+18      2.224800e+08   \n",
       "3                 270        1.090000e+18      5.746452e+06   \n",
       "4                  88        1.090000e+18      1.251786e+09   \n",
       "\n",
       "  reply_to_screen_name  ...  statuses_count  favourites_count  \\\n",
       "0                  NaN  ...           21783             31007   \n",
       "1        AaronSuplizio  ...           21783             31007   \n",
       "2               mvigod  ...           21783             31007   \n",
       "3         waltmossberg  ...           21783             31007   \n",
       "4           DaveLeeBBC  ...          165604            108196   \n",
       "\n",
       "   account_created_at  verified              profile_url  \\\n",
       "0          1178213411      True  https://t.co/AH9VhHsJmY   \n",
       "1          1178213411      True  https://t.co/AH9VhHsJmY   \n",
       "2          1178213411      True  https://t.co/AH9VhHsJmY   \n",
       "3          1178213411      True  https://t.co/AH9VhHsJmY   \n",
       "4          1173899540      True  https://t.co/QWOxhaw2kk   \n",
       "\n",
       "                                profile_expanded_url account_lang  \\\n",
       "0  http://www.theverge.com/label/walt-mossberg-verge           en   \n",
       "1  http://www.theverge.com/label/walt-mossberg-verge           en   \n",
       "2  http://www.theverge.com/label/walt-mossberg-verge           en   \n",
       "3  http://www.theverge.com/label/walt-mossberg-verge           en   \n",
       "4                      https://digiphile.info/about/           en   \n",
       "\n",
       "                                  profile_banner_url  \\\n",
       "0  https://pbs.twimg.com/profile_banners/5746452/...   \n",
       "1  https://pbs.twimg.com/profile_banners/5746452/...   \n",
       "2  https://pbs.twimg.com/profile_banners/5746452/...   \n",
       "3  https://pbs.twimg.com/profile_banners/5746452/...   \n",
       "4  https://pbs.twimg.com/profile_banners/1175221/...   \n",
       "\n",
       "                              profile_background_url  \\\n",
       "0   http://abs.twimg.com/images/themes/theme9/bg.gif   \n",
       "1   http://abs.twimg.com/images/themes/theme9/bg.gif   \n",
       "2   http://abs.twimg.com/images/themes/theme9/bg.gif   \n",
       "3   http://abs.twimg.com/images/themes/theme9/bg.gif   \n",
       "4  http://abs.twimg.com/images/themes/theme15/bg.png   \n",
       "\n",
       "                                   profile_image_url  \n",
       "0  http://pbs.twimg.com/profile_images/4637351296...  \n",
       "1  http://pbs.twimg.com/profile_images/4637351296...  \n",
       "2  http://pbs.twimg.com/profile_images/4637351296...  \n",
       "3  http://pbs.twimg.com/profile_images/4637351296...  \n",
       "4  http://pbs.twimg.com/profile_images/1076306605...  \n",
       "\n",
       "[5 rows x 88 columns]"
      ]
     },
     "execution_count": 56,
     "metadata": {},
     "output_type": "execute_result"
    }
   ],
   "source": [
    "# inspect the data\n",
    "\n",
    "tweets.head()"
   ]
  },
  {
   "cell_type": "code",
   "execution_count": 57,
   "metadata": {},
   "outputs": [
    {
     "data": {
      "text/plain": [
       "(9991, 88)"
      ]
     },
     "execution_count": 57,
     "metadata": {},
     "output_type": "execute_result"
    }
   ],
   "source": [
    "# get the number of rows and columns \n",
    "\n",
    "tweets.shape"
   ]
  },
  {
   "cell_type": "code",
   "execution_count": 58,
   "metadata": {},
   "outputs": [
    {
     "data": {
      "text/plain": [
       "user_id                   float64\n",
       "status_id                 float64\n",
       "created_at                  int64\n",
       "screen_name                object\n",
       "text                       object\n",
       "                           ...   \n",
       "profile_expanded_url       object\n",
       "account_lang               object\n",
       "profile_banner_url         object\n",
       "profile_background_url     object\n",
       "profile_image_url          object\n",
       "Length: 88, dtype: object"
      ]
     },
     "execution_count": 58,
     "metadata": {},
     "output_type": "execute_result"
    }
   ],
   "source": [
    "# view the data types \n",
    "\n",
    "tweets.dtypes"
   ]
  },
  {
   "cell_type": "markdown",
   "metadata": {},
   "source": [
    "## Data Cleaning "
   ]
  },
  {
   "cell_type": "code",
   "execution_count": 59,
   "metadata": {},
   "outputs": [
    {
     "data": {
      "text/plain": [
       "Index(['user_id', 'status_id', 'created_at', 'screen_name', 'text', 'source',\n",
       "       'display_text_width', 'reply_to_status_id', 'reply_to_user_id',\n",
       "       'reply_to_screen_name', 'is_quote', 'is_retweet', 'favorite_count',\n",
       "       'retweet_count', 'hashtags', 'symbols', 'urls_url', 'urls_t.co',\n",
       "       'urls_expanded_url', 'media_url', 'media_t.co', 'media_expanded_url',\n",
       "       'media_type', 'ext_media_url', 'ext_media_t.co',\n",
       "       'ext_media_expanded_url', 'ext_media_type', 'mentions_user_id',\n",
       "       'mentions_screen_name', 'lang', 'quoted_status_id', 'quoted_text',\n",
       "       'quoted_created_at', 'quoted_source', 'quoted_favorite_count',\n",
       "       'quoted_retweet_count', 'quoted_user_id', 'quoted_screen_name',\n",
       "       'quoted_name', 'quoted_followers_count', 'quoted_friends_count',\n",
       "       'quoted_statuses_count', 'quoted_location', 'quoted_description',\n",
       "       'quoted_verified', 'retweet_status_id', 'retweet_text',\n",
       "       'retweet_created_at', 'retweet_source', 'retweet_favorite_count',\n",
       "       'retweet_retweet_count', 'retweet_user_id', 'retweet_screen_name',\n",
       "       'retweet_name', 'retweet_followers_count', 'retweet_friends_count',\n",
       "       'retweet_statuses_count', 'retweet_location', 'retweet_description',\n",
       "       'retweet_verified', 'place_url', 'place_name', 'place_full_name',\n",
       "       'place_type', 'country', 'country_code', 'geo_coords', 'coords_coords',\n",
       "       'bbox_coords', 'status_url', 'name', 'location', 'description', 'url',\n",
       "       'protected', 'followers_count', 'friends_count', 'listed_count',\n",
       "       'statuses_count', 'favourites_count', 'account_created_at', 'verified',\n",
       "       'profile_url', 'profile_expanded_url', 'account_lang',\n",
       "       'profile_banner_url', 'profile_background_url', 'profile_image_url'],\n",
       "      dtype='object')"
      ]
     },
     "execution_count": 59,
     "metadata": {},
     "output_type": "execute_result"
    }
   ],
   "source": [
    "tweets.columns"
   ]
  },
  {
   "cell_type": "code",
   "execution_count": 60,
   "metadata": {},
   "outputs": [],
   "source": [
    "# keep only interesting columns \n",
    "\n",
    "tweets = tweets[['text', 'screen_name', 'favourites_count', 'retweet_count', 'verified']]"
   ]
  },
  {
   "cell_type": "code",
   "execution_count": 61,
   "metadata": {},
   "outputs": [
    {
     "data": {
      "text/html": [
       "<div>\n",
       "<style scoped>\n",
       "    .dataframe tbody tr th:only-of-type {\n",
       "        vertical-align: middle;\n",
       "    }\n",
       "\n",
       "    .dataframe tbody tr th {\n",
       "        vertical-align: top;\n",
       "    }\n",
       "\n",
       "    .dataframe thead th {\n",
       "        text-align: right;\n",
       "    }\n",
       "</style>\n",
       "<table border=\"1\" class=\"dataframe\">\n",
       "  <thead>\n",
       "    <tr style=\"text-align: right;\">\n",
       "      <th></th>\n",
       "      <th>text</th>\n",
       "      <th>screen_name</th>\n",
       "      <th>favourites_count</th>\n",
       "      <th>retweet_count</th>\n",
       "      <th>verified</th>\n",
       "    </tr>\n",
       "  </thead>\n",
       "  <tbody>\n",
       "    <tr>\n",
       "      <th>0</th>\n",
       "      <td>It’s true that @Apple likely overpriced the la...</td>\n",
       "      <td>waltmossberg</td>\n",
       "      <td>31007</td>\n",
       "      <td>160</td>\n",
       "      <td>True</td>\n",
       "    </tr>\n",
       "    <tr>\n",
       "      <th>1</th>\n",
       "      <td>@AaronSuplizio @Apple Yes it is.</td>\n",
       "      <td>waltmossberg</td>\n",
       "      <td>31007</td>\n",
       "      <td>0</td>\n",
       "      <td>True</td>\n",
       "    </tr>\n",
       "    <tr>\n",
       "      <th>2</th>\n",
       "      <td>@mvigod @Apple As I have said many times here,...</td>\n",
       "      <td>waltmossberg</td>\n",
       "      <td>31007</td>\n",
       "      <td>0</td>\n",
       "      <td>True</td>\n",
       "    </tr>\n",
       "    <tr>\n",
       "      <th>3</th>\n",
       "      <td>I’m not saying that @Apple doesn’t have proble...</td>\n",
       "      <td>waltmossberg</td>\n",
       "      <td>31007</td>\n",
       "      <td>53</td>\n",
       "      <td>True</td>\n",
       "    </tr>\n",
       "    <tr>\n",
       "      <th>4</th>\n",
       "      <td>@DaveLeeBBC @Apple @NYGovCuomo Nor I; saw it g...</td>\n",
       "      <td>digiphile</td>\n",
       "      <td>108196</td>\n",
       "      <td>0</td>\n",
       "      <td>True</td>\n",
       "    </tr>\n",
       "  </tbody>\n",
       "</table>\n",
       "</div>"
      ],
      "text/plain": [
       "                                                text   screen_name  \\\n",
       "0  It’s true that @Apple likely overpriced the la...  waltmossberg   \n",
       "1                   @AaronSuplizio @Apple Yes it is.  waltmossberg   \n",
       "2  @mvigod @Apple As I have said many times here,...  waltmossberg   \n",
       "3  I’m not saying that @Apple doesn’t have proble...  waltmossberg   \n",
       "4  @DaveLeeBBC @Apple @NYGovCuomo Nor I; saw it g...     digiphile   \n",
       "\n",
       "   favourites_count  retweet_count  verified  \n",
       "0             31007            160      True  \n",
       "1             31007              0      True  \n",
       "2             31007              0      True  \n",
       "3             31007             53      True  \n",
       "4            108196              0      True  "
      ]
     },
     "execution_count": 61,
     "metadata": {},
     "output_type": "execute_result"
    }
   ],
   "source": [
    "tweets.head()"
   ]
  },
  {
   "cell_type": "code",
   "execution_count": 62,
   "metadata": {},
   "outputs": [
    {
     "data": {
      "text/plain": [
       "'✨🍎@Apple : Apple was warned about the FaceTime eavesdropping bug last week https://t.co/zry3BCizbj #Tech #Apple $AAPL #Technology #TechNews https://t.co/ip8dhXg48K'"
      ]
     },
     "execution_count": 62,
     "metadata": {},
     "output_type": "execute_result"
    }
   ],
   "source": [
    "# pull a random tweet's text \n",
    "\n",
    "tweets['text'].iloc[680]"
   ]
  },
  {
   "cell_type": "code",
   "execution_count": 63,
   "metadata": {},
   "outputs": [],
   "source": [
    "# convert everything to lower case \n",
    "\n",
    "tweets['text'] = tweets['text'].str.lower()"
   ]
  },
  {
   "cell_type": "code",
   "execution_count": 64,
   "metadata": {},
   "outputs": [
    {
     "data": {
      "text/plain": [
       "'✨🍎@apple : apple was warned about the facetime eavesdropping bug last week https://t.co/zry3bcizbj #tech #apple $aapl #technology #technews https://t.co/ip8dhxg48k'"
      ]
     },
     "execution_count": 64,
     "metadata": {},
     "output_type": "execute_result"
    }
   ],
   "source": [
    "tweets['text'].iloc[680]"
   ]
  },
  {
   "cell_type": "code",
   "execution_count": 65,
   "metadata": {},
   "outputs": [],
   "source": [
    "# remove @'s and hashtags \n",
    "\n",
    "tweets['text'] = tweets['text'].replace(to_replace = '[#@$]\\w+', value = ' ', regex = True)"
   ]
  },
  {
   "cell_type": "code",
   "execution_count": 66,
   "metadata": {},
   "outputs": [
    {
     "data": {
      "text/plain": [
       "'✨🍎  : apple was warned about the facetime eavesdropping bug last week https://t.co/zry3bcizbj           https://t.co/ip8dhxg48k'"
      ]
     },
     "execution_count": 66,
     "metadata": {},
     "output_type": "execute_result"
    }
   ],
   "source": [
    "tweets['text'].iloc[680]"
   ]
  },
  {
   "cell_type": "code",
   "execution_count": 67,
   "metadata": {},
   "outputs": [],
   "source": [
    "# deal with quote marks being difficult\n",
    "\n",
    "# use the ragex = (\\u2019)\n",
    "\n",
    "tweets['text'] = tweets['text'].replace(to_replace = '(\\u2019)', value = \"'\", regex = True)\n",
    "\n",
    "# replace the most common contractions - ie replacing it's for its is, don't for do not \n",
    "\n",
    "tweets['text'] = tweets['text'].replace(to_replace = \"n't\", value = \" not\", regex = True)\n",
    "\n",
    "tweets['text'] = tweets['text'].replace(to_replace = \"it's\", value = \"it is\", regex = True)\n",
    "\n",
    "tweets['text'] = tweets['text'].replace(to_replace = \"'ve\", value = \" have\", regex = True)\n",
    "\n",
    "tweets['text'] = tweets['text'].replace(to_replace = \"i'm\", value = \"i am\", regex = True)\n",
    "\n",
    "tweets['text'] = tweets['text'].replace(to_replace = \"'s\", value = \"\", regex = True)"
   ]
  },
  {
   "cell_type": "code",
   "execution_count": 68,
   "metadata": {},
   "outputs": [],
   "source": [
    "# remove the ampersands\n",
    "\n",
    "tweets['text'] = tweets['text'].replace(to_replace = \"&amp\", value = \"\", regex = True)"
   ]
  },
  {
   "cell_type": "code",
   "execution_count": 69,
   "metadata": {},
   "outputs": [],
   "source": [
    "# remove links - https[s]?:\\/\\/[^\\s]+\n",
    "\n",
    "tweets['text'] = tweets['text'].replace(to_replace = \"https[s]?:\\/\\/[^\\s]+\", value = \"\", regex = True)"
   ]
  },
  {
   "cell_type": "code",
   "execution_count": 70,
   "metadata": {},
   "outputs": [],
   "source": [
    "# remove numbers - \\d+\n",
    "\n",
    "tweets['text'] = tweets['text'].replace(to_replace = \"\\d+\", value = \"\", regex = True)"
   ]
  },
  {
   "cell_type": "code",
   "execution_count": 71,
   "metadata": {},
   "outputs": [],
   "source": [
    "# remove standard punctuation - \\W\n",
    "\n",
    "tweets['text'] = tweets['text'].replace(to_replace = \"\\W\", value = \" \", regex = True)"
   ]
  },
  {
   "cell_type": "code",
   "execution_count": 72,
   "metadata": {},
   "outputs": [],
   "source": [
    "# remove extra spaces \n",
    "\n",
    "tweets['text'] = tweets['text'].replace(to_replace = \"\\s+\", value = \" \", regex = True)"
   ]
  },
  {
   "cell_type": "code",
   "execution_count": 73,
   "metadata": {},
   "outputs": [
    {
     "data": {
      "text/plain": [
       "0    it is true that likely overpriced the latest i...\n",
       "1                                           yes it is \n",
       "2     as i have said many times here with regard to...\n",
       "3    i am not saying that does not have problems an...\n",
       "4     nor i saw it go by and then tracked it down t...\n",
       "Name: text, dtype: object"
      ]
     },
     "execution_count": 73,
     "metadata": {},
     "output_type": "execute_result"
    }
   ],
   "source": [
    "tweets['text'].head()"
   ]
  },
  {
   "cell_type": "markdown",
   "metadata": {},
   "source": [
    "## Text Processing"
   ]
  },
  {
   "cell_type": "code",
   "execution_count": 74,
   "metadata": {},
   "outputs": [
    {
     "data": {
      "text/html": [
       "<div>\n",
       "<style scoped>\n",
       "    .dataframe tbody tr th:only-of-type {\n",
       "        vertical-align: middle;\n",
       "    }\n",
       "\n",
       "    .dataframe tbody tr th {\n",
       "        vertical-align: top;\n",
       "    }\n",
       "\n",
       "    .dataframe thead th {\n",
       "        text-align: right;\n",
       "    }\n",
       "</style>\n",
       "<table border=\"1\" class=\"dataframe\">\n",
       "  <thead>\n",
       "    <tr style=\"text-align: right;\">\n",
       "      <th></th>\n",
       "      <th>text</th>\n",
       "      <th>screen_name</th>\n",
       "      <th>favourites_count</th>\n",
       "      <th>retweet_count</th>\n",
       "      <th>verified</th>\n",
       "    </tr>\n",
       "  </thead>\n",
       "  <tbody>\n",
       "    <tr>\n",
       "      <th>0</th>\n",
       "      <td>it is true that likely overpriced the latest i...</td>\n",
       "      <td>waltmossberg</td>\n",
       "      <td>31007</td>\n",
       "      <td>160</td>\n",
       "      <td>True</td>\n",
       "    </tr>\n",
       "    <tr>\n",
       "      <th>1</th>\n",
       "      <td>yes it is</td>\n",
       "      <td>waltmossberg</td>\n",
       "      <td>31007</td>\n",
       "      <td>0</td>\n",
       "      <td>True</td>\n",
       "    </tr>\n",
       "    <tr>\n",
       "      <th>2</th>\n",
       "      <td>as i have said many times here with regard to...</td>\n",
       "      <td>waltmossberg</td>\n",
       "      <td>31007</td>\n",
       "      <td>0</td>\n",
       "      <td>True</td>\n",
       "    </tr>\n",
       "    <tr>\n",
       "      <th>3</th>\n",
       "      <td>i am not saying that does not have problems an...</td>\n",
       "      <td>waltmossberg</td>\n",
       "      <td>31007</td>\n",
       "      <td>53</td>\n",
       "      <td>True</td>\n",
       "    </tr>\n",
       "    <tr>\n",
       "      <th>4</th>\n",
       "      <td>nor i saw it go by and then tracked it down t...</td>\n",
       "      <td>digiphile</td>\n",
       "      <td>108196</td>\n",
       "      <td>0</td>\n",
       "      <td>True</td>\n",
       "    </tr>\n",
       "  </tbody>\n",
       "</table>\n",
       "</div>"
      ],
      "text/plain": [
       "                                                text   screen_name  \\\n",
       "0  it is true that likely overpriced the latest i...  waltmossberg   \n",
       "1                                         yes it is   waltmossberg   \n",
       "2   as i have said many times here with regard to...  waltmossberg   \n",
       "3  i am not saying that does not have problems an...  waltmossberg   \n",
       "4   nor i saw it go by and then tracked it down t...     digiphile   \n",
       "\n",
       "   favourites_count  retweet_count  verified  \n",
       "0             31007            160      True  \n",
       "1             31007              0      True  \n",
       "2             31007              0      True  \n",
       "3             31007             53      True  \n",
       "4            108196              0      True  "
      ]
     },
     "execution_count": 74,
     "metadata": {},
     "output_type": "execute_result"
    }
   ],
   "source": [
    "tweets.head()"
   ]
  },
  {
   "cell_type": "code",
   "execution_count": 75,
   "metadata": {},
   "outputs": [
    {
     "data": {
      "text/plain": [
       "' apple was warned about the facetime eavesdropping bug last week '"
      ]
     },
     "execution_count": 75,
     "metadata": {},
     "output_type": "execute_result"
    }
   ],
   "source": [
    "tweets['text'].iloc[680]"
   ]
  },
  {
   "cell_type": "markdown",
   "metadata": {},
   "source": [
    "#### tokenise the words so that they can be dealt with individually"
   ]
  },
  {
   "cell_type": "code",
   "execution_count": 76,
   "metadata": {},
   "outputs": [],
   "source": [
    "tweets['text'] = tweets['text'].apply(word_tokenize)"
   ]
  },
  {
   "cell_type": "code",
   "execution_count": 77,
   "metadata": {},
   "outputs": [
    {
     "data": {
      "text/html": [
       "<div>\n",
       "<style scoped>\n",
       "    .dataframe tbody tr th:only-of-type {\n",
       "        vertical-align: middle;\n",
       "    }\n",
       "\n",
       "    .dataframe tbody tr th {\n",
       "        vertical-align: top;\n",
       "    }\n",
       "\n",
       "    .dataframe thead th {\n",
       "        text-align: right;\n",
       "    }\n",
       "</style>\n",
       "<table border=\"1\" class=\"dataframe\">\n",
       "  <thead>\n",
       "    <tr style=\"text-align: right;\">\n",
       "      <th></th>\n",
       "      <th>text</th>\n",
       "      <th>screen_name</th>\n",
       "      <th>favourites_count</th>\n",
       "      <th>retweet_count</th>\n",
       "      <th>verified</th>\n",
       "    </tr>\n",
       "  </thead>\n",
       "  <tbody>\n",
       "    <tr>\n",
       "      <th>0</th>\n",
       "      <td>[it, is, true, that, likely, overpriced, the, ...</td>\n",
       "      <td>waltmossberg</td>\n",
       "      <td>31007</td>\n",
       "      <td>160</td>\n",
       "      <td>True</td>\n",
       "    </tr>\n",
       "    <tr>\n",
       "      <th>1</th>\n",
       "      <td>[yes, it, is]</td>\n",
       "      <td>waltmossberg</td>\n",
       "      <td>31007</td>\n",
       "      <td>0</td>\n",
       "      <td>True</td>\n",
       "    </tr>\n",
       "    <tr>\n",
       "      <th>2</th>\n",
       "      <td>[as, i, have, said, many, times, here, with, r...</td>\n",
       "      <td>waltmossberg</td>\n",
       "      <td>31007</td>\n",
       "      <td>0</td>\n",
       "      <td>True</td>\n",
       "    </tr>\n",
       "    <tr>\n",
       "      <th>3</th>\n",
       "      <td>[i, am, not, saying, that, does, not, have, pr...</td>\n",
       "      <td>waltmossberg</td>\n",
       "      <td>31007</td>\n",
       "      <td>53</td>\n",
       "      <td>True</td>\n",
       "    </tr>\n",
       "    <tr>\n",
       "      <th>4</th>\n",
       "      <td>[nor, i, saw, it, go, by, and, then, tracked, ...</td>\n",
       "      <td>digiphile</td>\n",
       "      <td>108196</td>\n",
       "      <td>0</td>\n",
       "      <td>True</td>\n",
       "    </tr>\n",
       "  </tbody>\n",
       "</table>\n",
       "</div>"
      ],
      "text/plain": [
       "                                                text   screen_name  \\\n",
       "0  [it, is, true, that, likely, overpriced, the, ...  waltmossberg   \n",
       "1                                      [yes, it, is]  waltmossberg   \n",
       "2  [as, i, have, said, many, times, here, with, r...  waltmossberg   \n",
       "3  [i, am, not, saying, that, does, not, have, pr...  waltmossberg   \n",
       "4  [nor, i, saw, it, go, by, and, then, tracked, ...     digiphile   \n",
       "\n",
       "   favourites_count  retweet_count  verified  \n",
       "0             31007            160      True  \n",
       "1             31007              0      True  \n",
       "2             31007              0      True  \n",
       "3             31007             53      True  \n",
       "4            108196              0      True  "
      ]
     },
     "execution_count": 77,
     "metadata": {},
     "output_type": "execute_result"
    }
   ],
   "source": [
    "tweets.head()"
   ]
  },
  {
   "cell_type": "markdown",
   "metadata": {},
   "source": [
    "#### remove common words (stop words)"
   ]
  },
  {
   "cell_type": "code",
   "execution_count": 78,
   "metadata": {},
   "outputs": [],
   "source": [
    "to_remove = stopwords.words('english')"
   ]
  },
  {
   "cell_type": "code",
   "execution_count": 79,
   "metadata": {},
   "outputs": [
    {
     "data": {
      "text/plain": [
       "['i',\n",
       " 'me',\n",
       " 'my',\n",
       " 'myself',\n",
       " 'we',\n",
       " 'our',\n",
       " 'ours',\n",
       " 'ourselves',\n",
       " 'you',\n",
       " \"you're\",\n",
       " \"you've\",\n",
       " \"you'll\",\n",
       " \"you'd\",\n",
       " 'your',\n",
       " 'yours',\n",
       " 'yourself',\n",
       " 'yourselves',\n",
       " 'he',\n",
       " 'him',\n",
       " 'his',\n",
       " 'himself',\n",
       " 'she',\n",
       " \"she's\",\n",
       " 'her',\n",
       " 'hers',\n",
       " 'herself',\n",
       " 'it',\n",
       " \"it's\",\n",
       " 'its',\n",
       " 'itself',\n",
       " 'they',\n",
       " 'them',\n",
       " 'their',\n",
       " 'theirs',\n",
       " 'themselves',\n",
       " 'what',\n",
       " 'which',\n",
       " 'who',\n",
       " 'whom',\n",
       " 'this',\n",
       " 'that',\n",
       " \"that'll\",\n",
       " 'these',\n",
       " 'those',\n",
       " 'am',\n",
       " 'is',\n",
       " 'are',\n",
       " 'was',\n",
       " 'were',\n",
       " 'be',\n",
       " 'been',\n",
       " 'being',\n",
       " 'have',\n",
       " 'has',\n",
       " 'had',\n",
       " 'having',\n",
       " 'do',\n",
       " 'does',\n",
       " 'did',\n",
       " 'doing',\n",
       " 'a',\n",
       " 'an',\n",
       " 'the',\n",
       " 'and',\n",
       " 'but',\n",
       " 'if',\n",
       " 'or',\n",
       " 'because',\n",
       " 'as',\n",
       " 'until',\n",
       " 'while',\n",
       " 'of',\n",
       " 'at',\n",
       " 'by',\n",
       " 'for',\n",
       " 'with',\n",
       " 'about',\n",
       " 'against',\n",
       " 'between',\n",
       " 'into',\n",
       " 'through',\n",
       " 'during',\n",
       " 'before',\n",
       " 'after',\n",
       " 'above',\n",
       " 'below',\n",
       " 'to',\n",
       " 'from',\n",
       " 'up',\n",
       " 'down',\n",
       " 'in',\n",
       " 'out',\n",
       " 'on',\n",
       " 'off',\n",
       " 'over',\n",
       " 'under',\n",
       " 'again',\n",
       " 'further',\n",
       " 'then',\n",
       " 'once',\n",
       " 'here',\n",
       " 'there',\n",
       " 'when',\n",
       " 'where',\n",
       " 'why',\n",
       " 'how',\n",
       " 'all',\n",
       " 'any',\n",
       " 'both',\n",
       " 'each',\n",
       " 'few',\n",
       " 'more',\n",
       " 'most',\n",
       " 'other',\n",
       " 'some',\n",
       " 'such',\n",
       " 'no',\n",
       " 'nor',\n",
       " 'not',\n",
       " 'only',\n",
       " 'own',\n",
       " 'same',\n",
       " 'so',\n",
       " 'than',\n",
       " 'too',\n",
       " 'very',\n",
       " 's',\n",
       " 't',\n",
       " 'can',\n",
       " 'will',\n",
       " 'just',\n",
       " 'don',\n",
       " \"don't\",\n",
       " 'should',\n",
       " \"should've\",\n",
       " 'now',\n",
       " 'd',\n",
       " 'll',\n",
       " 'm',\n",
       " 'o',\n",
       " 're',\n",
       " 've',\n",
       " 'y',\n",
       " 'ain',\n",
       " 'aren',\n",
       " \"aren't\",\n",
       " 'couldn',\n",
       " \"couldn't\",\n",
       " 'didn',\n",
       " \"didn't\",\n",
       " 'doesn',\n",
       " \"doesn't\",\n",
       " 'hadn',\n",
       " \"hadn't\",\n",
       " 'hasn',\n",
       " \"hasn't\",\n",
       " 'haven',\n",
       " \"haven't\",\n",
       " 'isn',\n",
       " \"isn't\",\n",
       " 'ma',\n",
       " 'mightn',\n",
       " \"mightn't\",\n",
       " 'mustn',\n",
       " \"mustn't\",\n",
       " 'needn',\n",
       " \"needn't\",\n",
       " 'shan',\n",
       " \"shan't\",\n",
       " 'shouldn',\n",
       " \"shouldn't\",\n",
       " 'wasn',\n",
       " \"wasn't\",\n",
       " 'weren',\n",
       " \"weren't\",\n",
       " 'won',\n",
       " \"won't\",\n",
       " 'wouldn',\n",
       " \"wouldn't\"]"
      ]
     },
     "execution_count": 79,
     "metadata": {},
     "output_type": "execute_result"
    }
   ],
   "source": [
    "to_remove"
   ]
  },
  {
   "cell_type": "code",
   "execution_count": 80,
   "metadata": {},
   "outputs": [],
   "source": [
    "# can add specific words to remove \n",
    "\n",
    "to_remove.extend(['apple', 'aapl', 'get'])"
   ]
  },
  {
   "cell_type": "code",
   "execution_count": 81,
   "metadata": {},
   "outputs": [],
   "source": [
    "# filter the words, removing the ones in stop_words and those of <= 2 letters \n",
    "\n",
    "tweets['text'] = tweets['text'].apply(lambda tweet: [word for word in tweet\n",
    "                                                    if word not in to_remove\n",
    "                                                    and len(word) >2])"
   ]
  },
  {
   "cell_type": "markdown",
   "metadata": {},
   "source": [
    "## option - lemmitisation "
   ]
  },
  {
   "cell_type": "code",
   "execution_count": 82,
   "metadata": {},
   "outputs": [],
   "source": [
    "# lemmatisation\n",
    "\n",
    "# replacing words with their root word"
   ]
  },
  {
   "cell_type": "code",
   "execution_count": 83,
   "metadata": {},
   "outputs": [],
   "source": [
    "from nltk.stem import WordNetLemmatizer\n",
    "from nltk.corpus import wordnet\n",
    "from nltk import pos_tag\n",
    "from collections import defaultdict"
   ]
  },
  {
   "cell_type": "code",
   "execution_count": 84,
   "metadata": {},
   "outputs": [],
   "source": [
    "# object to lemmatize the words\n",
    "\n",
    "lemma = WordNetLemmatizer()"
   ]
  },
  {
   "cell_type": "code",
   "execution_count": 85,
   "metadata": {},
   "outputs": [],
   "source": [
    "# dictionary to convert between part-of-speach tags and the ones that the lematizer understands\n",
    "\n",
    "# this includes adjectives, verbs and adverbs - all to their common root\n",
    "\n",
    "tag_dict = defaultdict(lambda: wordnet.NOUN)\n",
    "tag_dict['J'] = wordnet.ADJ\n",
    "tag_dict['V'] = wordnet.VERB\n",
    "tag_dict['R'] = wordnet.ADV\n",
    "\n"
   ]
  },
  {
   "cell_type": "code",
   "execution_count": 86,
   "metadata": {},
   "outputs": [],
   "source": [
    "# function to lemmatize a sentence \n",
    "\n",
    "def get_lemma(word):\n",
    "    tag = pos_tag([word])[0][1][0]\n",
    "    tag = tag_dict[tag]\n",
    "    \n",
    "    return lemma.lemmatize(word, tag)"
   ]
  },
  {
   "cell_type": "code",
   "execution_count": 87,
   "metadata": {},
   "outputs": [],
   "source": [
    "# from here upwards you can use this for any text analysis data you would like to use "
   ]
  },
  {
   "cell_type": "code",
   "execution_count": 88,
   "metadata": {},
   "outputs": [],
   "source": [
    "# actually perform the lemmatisation \n",
    "\n",
    "tweets['text'] = tweets['text'].apply(lambda x: [get_lemma(word) for word in x])"
   ]
  },
  {
   "cell_type": "code",
   "execution_count": 89,
   "metadata": {},
   "outputs": [],
   "source": [
    "# drop rows with zero words remaining\n",
    "\n",
    "tweets = tweets[tweets['text'].str.len() > 0]"
   ]
  },
  {
   "cell_type": "code",
   "execution_count": 90,
   "metadata": {},
   "outputs": [
    {
     "data": {
      "text/plain": [
       "(9907, 5)"
      ]
     },
     "execution_count": 90,
     "metadata": {},
     "output_type": "execute_result"
    }
   ],
   "source": [
    "tweets.shape"
   ]
  },
  {
   "cell_type": "markdown",
   "metadata": {},
   "source": [
    "## End of the Lemmatisation Section"
   ]
  },
  {
   "cell_type": "code",
   "execution_count": 91,
   "metadata": {},
   "outputs": [
    {
     "data": {
      "text/html": [
       "<div>\n",
       "<style scoped>\n",
       "    .dataframe tbody tr th:only-of-type {\n",
       "        vertical-align: middle;\n",
       "    }\n",
       "\n",
       "    .dataframe tbody tr th {\n",
       "        vertical-align: top;\n",
       "    }\n",
       "\n",
       "    .dataframe thead th {\n",
       "        text-align: right;\n",
       "    }\n",
       "</style>\n",
       "<table border=\"1\" class=\"dataframe\">\n",
       "  <thead>\n",
       "    <tr style=\"text-align: right;\">\n",
       "      <th></th>\n",
       "      <th>text</th>\n",
       "      <th>screen_name</th>\n",
       "      <th>favourites_count</th>\n",
       "      <th>retweet_count</th>\n",
       "      <th>verified</th>\n",
       "    </tr>\n",
       "  </thead>\n",
       "  <tbody>\n",
       "    <tr>\n",
       "      <th>0</th>\n",
       "      <td>[true, likely, overprice, late, iphones, matur...</td>\n",
       "      <td>waltmossberg</td>\n",
       "      <td>31007</td>\n",
       "      <td>160</td>\n",
       "      <td>True</td>\n",
       "    </tr>\n",
       "    <tr>\n",
       "      <th>1</th>\n",
       "      <td>[yes]</td>\n",
       "      <td>waltmossberg</td>\n",
       "      <td>31007</td>\n",
       "      <td>0</td>\n",
       "      <td>True</td>\n",
       "    </tr>\n",
       "    <tr>\n",
       "      <th>2</th>\n",
       "      <td>[say, many, time, regard, multiple, company, m...</td>\n",
       "      <td>waltmossberg</td>\n",
       "      <td>31007</td>\n",
       "      <td>0</td>\n",
       "      <td>True</td>\n",
       "    </tr>\n",
       "    <tr>\n",
       "      <th>3</th>\n",
       "      <td>[say, problem, challenge, say, perspective, or...</td>\n",
       "      <td>waltmossberg</td>\n",
       "      <td>31007</td>\n",
       "      <td>53</td>\n",
       "      <td>True</td>\n",
       "    </tr>\n",
       "    <tr>\n",
       "      <th>4</th>\n",
       "      <td>[saw, tracked, confirm]</td>\n",
       "      <td>digiphile</td>\n",
       "      <td>108196</td>\n",
       "      <td>0</td>\n",
       "      <td>True</td>\n",
       "    </tr>\n",
       "  </tbody>\n",
       "</table>\n",
       "</div>"
      ],
      "text/plain": [
       "                                                text   screen_name  \\\n",
       "0  [true, likely, overprice, late, iphones, matur...  waltmossberg   \n",
       "1                                              [yes]  waltmossberg   \n",
       "2  [say, many, time, regard, multiple, company, m...  waltmossberg   \n",
       "3  [say, problem, challenge, say, perspective, or...  waltmossberg   \n",
       "4                            [saw, tracked, confirm]     digiphile   \n",
       "\n",
       "   favourites_count  retweet_count  verified  \n",
       "0             31007            160      True  \n",
       "1             31007              0      True  \n",
       "2             31007              0      True  \n",
       "3             31007             53      True  \n",
       "4            108196              0      True  "
      ]
     },
     "execution_count": 91,
     "metadata": {},
     "output_type": "execute_result"
    }
   ],
   "source": [
    "tweets.head()"
   ]
  },
  {
   "cell_type": "code",
   "execution_count": 92,
   "metadata": {},
   "outputs": [],
   "source": [
    "# join the lists of words back into strings\n",
    "\n",
    "tweets['text'] = tweets['text'].apply(lambda tweet: \" \".join(tweet))"
   ]
  },
  {
   "cell_type": "code",
   "execution_count": 93,
   "metadata": {},
   "outputs": [
    {
     "data": {
      "text/html": [
       "<div>\n",
       "<style scoped>\n",
       "    .dataframe tbody tr th:only-of-type {\n",
       "        vertical-align: middle;\n",
       "    }\n",
       "\n",
       "    .dataframe tbody tr th {\n",
       "        vertical-align: top;\n",
       "    }\n",
       "\n",
       "    .dataframe thead th {\n",
       "        text-align: right;\n",
       "    }\n",
       "</style>\n",
       "<table border=\"1\" class=\"dataframe\">\n",
       "  <thead>\n",
       "    <tr style=\"text-align: right;\">\n",
       "      <th></th>\n",
       "      <th>text</th>\n",
       "      <th>screen_name</th>\n",
       "      <th>favourites_count</th>\n",
       "      <th>retweet_count</th>\n",
       "      <th>verified</th>\n",
       "    </tr>\n",
       "  </thead>\n",
       "  <tbody>\n",
       "    <tr>\n",
       "      <th>0</th>\n",
       "      <td>true likely overprice late iphones mature mark...</td>\n",
       "      <td>waltmossberg</td>\n",
       "      <td>31007</td>\n",
       "      <td>160</td>\n",
       "      <td>True</td>\n",
       "    </tr>\n",
       "    <tr>\n",
       "      <th>1</th>\n",
       "      <td>yes</td>\n",
       "      <td>waltmossberg</td>\n",
       "      <td>31007</td>\n",
       "      <td>0</td>\n",
       "      <td>True</td>\n",
       "    </tr>\n",
       "    <tr>\n",
       "      <th>2</th>\n",
       "      <td>say many time regard multiple company market c...</td>\n",
       "      <td>waltmossberg</td>\n",
       "      <td>31007</td>\n",
       "      <td>0</td>\n",
       "      <td>True</td>\n",
       "    </tr>\n",
       "    <tr>\n",
       "      <th>3</th>\n",
       "      <td>say problem challenge say perspective order ma...</td>\n",
       "      <td>waltmossberg</td>\n",
       "      <td>31007</td>\n",
       "      <td>53</td>\n",
       "      <td>True</td>\n",
       "    </tr>\n",
       "    <tr>\n",
       "      <th>4</th>\n",
       "      <td>saw tracked confirm</td>\n",
       "      <td>digiphile</td>\n",
       "      <td>108196</td>\n",
       "      <td>0</td>\n",
       "      <td>True</td>\n",
       "    </tr>\n",
       "  </tbody>\n",
       "</table>\n",
       "</div>"
      ],
      "text/plain": [
       "                                                text   screen_name  \\\n",
       "0  true likely overprice late iphones mature mark...  waltmossberg   \n",
       "1                                                yes  waltmossberg   \n",
       "2  say many time regard multiple company market c...  waltmossberg   \n",
       "3  say problem challenge say perspective order ma...  waltmossberg   \n",
       "4                                saw tracked confirm     digiphile   \n",
       "\n",
       "   favourites_count  retweet_count  verified  \n",
       "0             31007            160      True  \n",
       "1             31007              0      True  \n",
       "2             31007              0      True  \n",
       "3             31007             53      True  \n",
       "4            108196              0      True  "
      ]
     },
     "execution_count": 93,
     "metadata": {},
     "output_type": "execute_result"
    }
   ],
   "source": [
    "tweets.head()"
   ]
  },
  {
   "cell_type": "markdown",
   "metadata": {},
   "source": [
    "## Text Analysis"
   ]
  },
  {
   "cell_type": "code",
   "execution_count": 94,
   "metadata": {},
   "outputs": [
    {
     "name": "stdout",
     "output_type": "stream",
     "text": [
      "Enter a word: bug\n"
     ]
    },
    {
     "data": {
      "text/plain": [
       "487"
      ]
     },
     "execution_count": 94,
     "metadata": {},
     "output_type": "execute_result"
    }
   ],
   "source": [
    "# how many rows does the word 'bug' appear in our tweets? \n",
    "\n",
    "search = input('Enter a word: ')\n",
    "tweets[tweets['text'].str.contains(search)]['text'].count()"
   ]
  },
  {
   "cell_type": "code",
   "execution_count": 95,
   "metadata": {},
   "outputs": [
    {
     "name": "stdout",
     "output_type": "stream",
     "text": [
      "Enter a word: bug\n"
     ]
    },
    {
     "data": {
      "text/plain": [
       "43                 rush fix bug let user eavesdrop others\n",
       "82      newly discover bug facetime potential threat i...\n",
       "83      say issue software patch later week bug let ip...\n",
       "124     wtf major iphone facetime bug let eavesdrop ip...\n",
       "139     ironic glitch story banner io bug call bug ins...\n",
       "                              ...                        \n",
       "9267    well work somehow end bug report suck wait lon...\n",
       "9270    map bug reporter usually work great fix within...\n",
       "9295    follow bug late android oreo update samsung pl...\n",
       "9437    notice bug face recognition iphone xsmax phone...\n",
       "9789    stop send bug phone try make buy new one mean ...\n",
       "Name: text, Length: 487, dtype: object"
      ]
     },
     "execution_count": 95,
     "metadata": {},
     "output_type": "execute_result"
    }
   ],
   "source": [
    "# returns the actual tweets with the searched word \n",
    "\n",
    "search = input('Enter a word: ')\n",
    "tweets[tweets['text'].str.contains(search)]['text']"
   ]
  },
  {
   "cell_type": "code",
   "execution_count": 96,
   "metadata": {},
   "outputs": [],
   "source": [
    "# create a document-term matrix (dtm)\n",
    "\n",
    "vectorizer = CountVectorizer(max_features = 10000, min_df = 0.01, ngram_range = (1,1))\n",
    "\n",
    "# max_features = how many variables you want to have in each document \n",
    "\n",
    "# mind_df = how oftern does that word have to appear to then be included in the matrix - 0.01 means 1% of the time\n",
    "\n",
    "# ngram_range = do we want to search for 1 word at a time or combination of words ie data & science = data science\n",
    "\n",
    "\n",
    "# convert the text column to a sparse matrix \n",
    "\n",
    "tweets_dtm = vectorizer.fit_transform(tweets['text'])"
   ]
  },
  {
   "cell_type": "code",
   "execution_count": 97,
   "metadata": {},
   "outputs": [
    {
     "data": {
      "text/plain": [
       "<9907x136 sparse matrix of type '<class 'numpy.int64'>'\n",
       "\twith 30808 stored elements in Compressed Sparse Row format>"
      ]
     },
     "execution_count": 97,
     "metadata": {},
     "output_type": "execute_result"
    }
   ],
   "source": [
    "# view the bag-of-words model \n",
    "\n",
    "tweets_dtm"
   ]
  },
  {
   "cell_type": "code",
   "execution_count": 98,
   "metadata": {},
   "outputs": [],
   "source": [
    "# creata a dataframe of terms and frequencies \n",
    "\n",
    "# get the frequency of each term \n",
    "\n",
    "term_frequencies = tweets_dtm.sum(axis=0)\n",
    "\n",
    "# match the frequencies to terms \n",
    "\n",
    "frequent_terms = [(word, term_frequencies[0, id]) for word, id in vectorizer.vocabulary_.items()]\n",
    "\n",
    "# convert the word frequency pairings to a dataframe \n",
    "\n",
    "term_df = pd.DataFrame(columns = ['term', 'frequency'], data = frequent_terms)\n",
    "\n",
    "# sort the dataframe\n",
    "\n",
    "term_df.sort_values(by = 'frequency', ascending = False, inplace = True)"
   ]
  },
  {
   "cell_type": "code",
   "execution_count": 99,
   "metadata": {},
   "outputs": [
    {
     "data": {
      "text/html": [
       "<div>\n",
       "<style scoped>\n",
       "    .dataframe tbody tr th:only-of-type {\n",
       "        vertical-align: middle;\n",
       "    }\n",
       "\n",
       "    .dataframe tbody tr th {\n",
       "        vertical-align: top;\n",
       "    }\n",
       "\n",
       "    .dataframe thead th {\n",
       "        text-align: right;\n",
       "    }\n",
       "</style>\n",
       "<table border=\"1\" class=\"dataframe\">\n",
       "  <thead>\n",
       "    <tr style=\"text-align: right;\">\n",
       "      <th></th>\n",
       "      <th>term</th>\n",
       "      <th>frequency</th>\n",
       "    </tr>\n",
       "  </thead>\n",
       "  <tbody>\n",
       "    <tr>\n",
       "      <th>15</th>\n",
       "      <td>iphone</td>\n",
       "      <td>1084</td>\n",
       "    </tr>\n",
       "    <tr>\n",
       "      <th>68</th>\n",
       "      <td>phone</td>\n",
       "      <td>949</td>\n",
       "    </tr>\n",
       "    <tr>\n",
       "      <th>104</th>\n",
       "      <td>facetime</td>\n",
       "      <td>738</td>\n",
       "    </tr>\n",
       "    <tr>\n",
       "      <th>20</th>\n",
       "      <td>new</td>\n",
       "      <td>700</td>\n",
       "    </tr>\n",
       "    <tr>\n",
       "      <th>58</th>\n",
       "      <td>like</td>\n",
       "      <td>646</td>\n",
       "    </tr>\n",
       "  </tbody>\n",
       "</table>\n",
       "</div>"
      ],
      "text/plain": [
       "         term  frequency\n",
       "15     iphone       1084\n",
       "68      phone        949\n",
       "104  facetime        738\n",
       "20        new        700\n",
       "58       like        646"
      ]
     },
     "execution_count": 99,
     "metadata": {},
     "output_type": "execute_result"
    }
   ],
   "source": [
    "term_df.head()"
   ]
  },
  {
   "cell_type": "code",
   "execution_count": 100,
   "metadata": {},
   "outputs": [
    {
     "data": {
      "text/html": [
       "<div>\n",
       "<style scoped>\n",
       "    .dataframe tbody tr th:only-of-type {\n",
       "        vertical-align: middle;\n",
       "    }\n",
       "\n",
       "    .dataframe tbody tr th {\n",
       "        vertical-align: top;\n",
       "    }\n",
       "\n",
       "    .dataframe thead th {\n",
       "        text-align: right;\n",
       "    }\n",
       "</style>\n",
       "<table border=\"1\" class=\"dataframe\">\n",
       "  <thead>\n",
       "    <tr style=\"text-align: right;\">\n",
       "      <th></th>\n",
       "      <th>term</th>\n",
       "      <th>frequency</th>\n",
       "    </tr>\n",
       "  </thead>\n",
       "  <tbody>\n",
       "    <tr>\n",
       "      <th>15</th>\n",
       "      <td>iphone</td>\n",
       "      <td>1084</td>\n",
       "    </tr>\n",
       "    <tr>\n",
       "      <th>68</th>\n",
       "      <td>phone</td>\n",
       "      <td>949</td>\n",
       "    </tr>\n",
       "    <tr>\n",
       "      <th>104</th>\n",
       "      <td>facetime</td>\n",
       "      <td>738</td>\n",
       "    </tr>\n",
       "    <tr>\n",
       "      <th>20</th>\n",
       "      <td>new</td>\n",
       "      <td>700</td>\n",
       "    </tr>\n",
       "    <tr>\n",
       "      <th>58</th>\n",
       "      <td>like</td>\n",
       "      <td>646</td>\n",
       "    </tr>\n",
       "    <tr>\n",
       "      <th>64</th>\n",
       "      <td>make</td>\n",
       "      <td>640</td>\n",
       "    </tr>\n",
       "    <tr>\n",
       "      <th>21</th>\n",
       "      <td>fix</td>\n",
       "      <td>623</td>\n",
       "    </tr>\n",
       "    <tr>\n",
       "      <th>26</th>\n",
       "      <td>use</td>\n",
       "      <td>534</td>\n",
       "    </tr>\n",
       "    <tr>\n",
       "      <th>48</th>\n",
       "      <td>need</td>\n",
       "      <td>529</td>\n",
       "    </tr>\n",
       "    <tr>\n",
       "      <th>78</th>\n",
       "      <td>get</td>\n",
       "      <td>518</td>\n",
       "    </tr>\n",
       "    <tr>\n",
       "      <th>84</th>\n",
       "      <td>bug</td>\n",
       "      <td>502</td>\n",
       "    </tr>\n",
       "    <tr>\n",
       "      <th>41</th>\n",
       "      <td>one</td>\n",
       "      <td>490</td>\n",
       "    </tr>\n",
       "    <tr>\n",
       "      <th>74</th>\n",
       "      <td>work</td>\n",
       "      <td>438</td>\n",
       "    </tr>\n",
       "    <tr>\n",
       "      <th>49</th>\n",
       "      <td>call</td>\n",
       "      <td>436</td>\n",
       "    </tr>\n",
       "    <tr>\n",
       "      <th>7</th>\n",
       "      <td>time</td>\n",
       "      <td>427</td>\n",
       "    </tr>\n",
       "    <tr>\n",
       "      <th>46</th>\n",
       "      <td>well</td>\n",
       "      <td>417</td>\n",
       "    </tr>\n",
       "    <tr>\n",
       "      <th>1</th>\n",
       "      <td>people</td>\n",
       "      <td>413</td>\n",
       "    </tr>\n",
       "    <tr>\n",
       "      <th>14</th>\n",
       "      <td>would</td>\n",
       "      <td>406</td>\n",
       "    </tr>\n",
       "    <tr>\n",
       "      <th>24</th>\n",
       "      <td>update</td>\n",
       "      <td>402</td>\n",
       "    </tr>\n",
       "    <tr>\n",
       "      <th>86</th>\n",
       "      <td>go</td>\n",
       "      <td>386</td>\n",
       "    </tr>\n",
       "  </tbody>\n",
       "</table>\n",
       "</div>"
      ],
      "text/plain": [
       "         term  frequency\n",
       "15     iphone       1084\n",
       "68      phone        949\n",
       "104  facetime        738\n",
       "20        new        700\n",
       "58       like        646\n",
       "64       make        640\n",
       "21        fix        623\n",
       "26        use        534\n",
       "48       need        529\n",
       "78        get        518\n",
       "84        bug        502\n",
       "41        one        490\n",
       "74       work        438\n",
       "49       call        436\n",
       "7        time        427\n",
       "46       well        417\n",
       "1      people        413\n",
       "14      would        406\n",
       "24     update        402\n",
       "86         go        386"
      ]
     },
     "execution_count": 100,
     "metadata": {},
     "output_type": "execute_result"
    }
   ],
   "source": [
    "term_df.head(20)"
   ]
  },
  {
   "cell_type": "markdown",
   "metadata": {},
   "source": [
    "## Data Visualisation"
   ]
  },
  {
   "cell_type": "code",
   "execution_count": 101,
   "metadata": {},
   "outputs": [
    {
     "data": {
      "text/plain": [
       "<matplotlib.axes._subplots.AxesSubplot at 0x1ec05a62848>"
      ]
     },
     "execution_count": 101,
     "metadata": {},
     "output_type": "execute_result"
    },
    {
     "data": {
      "image/png": "[encoded data removed]",
      "text/plain": [
       "<Figure size 720x720 with 1 Axes>"
      ]
     },
     "metadata": {
      "needs_background": "light"
     },
     "output_type": "display_data"
    }
   ],
   "source": [
    "plt.figure(figsize = (10,10))\n",
    "\n",
    "# plot the most frequent terms \n",
    "\n",
    "sns.barplot(x = 'frequency', y= 'term', data = term_df.head(20))"
   ]
  },
  {
   "cell_type": "markdown",
   "metadata": {},
   "source": [
    "## Word Clouds"
   ]
  },
  {
   "cell_type": "code",
   "execution_count": 102,
   "metadata": {},
   "outputs": [
    {
     "data": {
      "image/png": "[encoded data removed]",
      "text/plain": [
       "<Figure size 1440x720 with 1 Axes>"
      ]
     },
     "metadata": {
      "needs_background": "light"
     },
     "output_type": "display_data"
    }
   ],
   "source": [
    "# create a dictionary of the most frequent terms \n",
    "\n",
    "term_dict = term_df.set_index('term')['frequency'].to_dict()\n",
    "\n",
    "# create a word cloud of the most frequent terms \n",
    "\n",
    "cloud = WordCloud(width = 800, height = 300, background_color = 'white', max_words = 100)\n",
    "\n",
    "cloud.generate_from_frequencies(term_dict)\n",
    "\n",
    "# display the cloud \n",
    "\n",
    "plt.figure(figsize = (20, 10))\n",
    "\n",
    "plt.imshow(cloud, interpolation = 'bilinear')\n",
    "plt.axis('off')\n",
    "plt.show()"
   ]
  },
  {
   "cell_type": "markdown",
   "metadata": {},
   "source": [
    "## Sentiment Analysis"
   ]
  },
  {
   "cell_type": "code",
   "execution_count": 103,
   "metadata": {},
   "outputs": [],
   "source": [
    "# assign sentiment to each tweet\n",
    "\n",
    "tweets['sentiment'] = tweets['text'].apply(lambda x: TextBlob(x).sentiment.polarity)"
   ]
  },
  {
   "cell_type": "code",
   "execution_count": 104,
   "metadata": {},
   "outputs": [
    {
     "data": {
      "text/html": [
       "<div>\n",
       "<style scoped>\n",
       "    .dataframe tbody tr th:only-of-type {\n",
       "        vertical-align: middle;\n",
       "    }\n",
       "\n",
       "    .dataframe tbody tr th {\n",
       "        vertical-align: top;\n",
       "    }\n",
       "\n",
       "    .dataframe thead th {\n",
       "        text-align: right;\n",
       "    }\n",
       "</style>\n",
       "<table border=\"1\" class=\"dataframe\">\n",
       "  <thead>\n",
       "    <tr style=\"text-align: right;\">\n",
       "      <th></th>\n",
       "      <th>text</th>\n",
       "      <th>screen_name</th>\n",
       "      <th>favourites_count</th>\n",
       "      <th>retweet_count</th>\n",
       "      <th>verified</th>\n",
       "      <th>sentiment</th>\n",
       "    </tr>\n",
       "  </thead>\n",
       "  <tbody>\n",
       "    <tr>\n",
       "      <th>0</th>\n",
       "      <td>true likely overprice late iphones mature mark...</td>\n",
       "      <td>waltmossberg</td>\n",
       "      <td>31007</td>\n",
       "      <td>160</td>\n",
       "      <td>True</td>\n",
       "      <td>0.03</td>\n",
       "    </tr>\n",
       "    <tr>\n",
       "      <th>1</th>\n",
       "      <td>yes</td>\n",
       "      <td>waltmossberg</td>\n",
       "      <td>31007</td>\n",
       "      <td>0</td>\n",
       "      <td>True</td>\n",
       "      <td>0.00</td>\n",
       "    </tr>\n",
       "    <tr>\n",
       "      <th>2</th>\n",
       "      <td>say many time regard multiple company market c...</td>\n",
       "      <td>waltmossberg</td>\n",
       "      <td>31007</td>\n",
       "      <td>0</td>\n",
       "      <td>True</td>\n",
       "      <td>0.00</td>\n",
       "    </tr>\n",
       "    <tr>\n",
       "      <th>3</th>\n",
       "      <td>say problem challenge say perspective order ma...</td>\n",
       "      <td>waltmossberg</td>\n",
       "      <td>31007</td>\n",
       "      <td>53</td>\n",
       "      <td>True</td>\n",
       "      <td>0.00</td>\n",
       "    </tr>\n",
       "    <tr>\n",
       "      <th>4</th>\n",
       "      <td>saw tracked confirm</td>\n",
       "      <td>digiphile</td>\n",
       "      <td>108196</td>\n",
       "      <td>0</td>\n",
       "      <td>True</td>\n",
       "      <td>0.00</td>\n",
       "    </tr>\n",
       "  </tbody>\n",
       "</table>\n",
       "</div>"
      ],
      "text/plain": [
       "                                                text   screen_name  \\\n",
       "0  true likely overprice late iphones mature mark...  waltmossberg   \n",
       "1                                                yes  waltmossberg   \n",
       "2  say many time regard multiple company market c...  waltmossberg   \n",
       "3  say problem challenge say perspective order ma...  waltmossberg   \n",
       "4                                saw tracked confirm     digiphile   \n",
       "\n",
       "   favourites_count  retweet_count  verified  sentiment  \n",
       "0             31007            160      True       0.03  \n",
       "1             31007              0      True       0.00  \n",
       "2             31007              0      True       0.00  \n",
       "3             31007             53      True       0.00  \n",
       "4            108196              0      True       0.00  "
      ]
     },
     "execution_count": 104,
     "metadata": {},
     "output_type": "execute_result"
    }
   ],
   "source": [
    "# sentiment goes from -1 to +1\n",
    "\n",
    "tweets.head()"
   ]
  },
  {
   "cell_type": "code",
   "execution_count": 106,
   "metadata": {},
   "outputs": [
    {
     "data": {
      "text/html": [
       "<div>\n",
       "<style scoped>\n",
       "    .dataframe tbody tr th:only-of-type {\n",
       "        vertical-align: middle;\n",
       "    }\n",
       "\n",
       "    .dataframe tbody tr th {\n",
       "        vertical-align: top;\n",
       "    }\n",
       "\n",
       "    .dataframe thead th {\n",
       "        text-align: right;\n",
       "    }\n",
       "</style>\n",
       "<table border=\"1\" class=\"dataframe\">\n",
       "  <thead>\n",
       "    <tr style=\"text-align: right;\">\n",
       "      <th></th>\n",
       "      <th>text</th>\n",
       "      <th>sentiment</th>\n",
       "    </tr>\n",
       "  </thead>\n",
       "  <tbody>\n",
       "    <tr>\n",
       "      <th>8525</th>\n",
       "      <td>either need fix conference call iphone max hor...</td>\n",
       "      <td>-1.0</td>\n",
       "    </tr>\n",
       "    <tr>\n",
       "      <th>3213</th>\n",
       "      <td>insane ever heard</td>\n",
       "      <td>-1.0</td>\n",
       "    </tr>\n",
       "    <tr>\n",
       "      <th>3839</th>\n",
       "      <td>nasty facetime bug could allow others eavesdro...</td>\n",
       "      <td>-1.0</td>\n",
       "    </tr>\n",
       "    <tr>\n",
       "      <th>2759</th>\n",
       "      <td>assume trading terribly</td>\n",
       "      <td>-1.0</td>\n",
       "    </tr>\n",
       "    <tr>\n",
       "      <th>1609</th>\n",
       "      <td>io release nasty surprise</td>\n",
       "      <td>-1.0</td>\n",
       "    </tr>\n",
       "    <tr>\n",
       "      <th>5201</th>\n",
       "      <td>dam facetime nasty</td>\n",
       "      <td>-1.0</td>\n",
       "    </tr>\n",
       "    <tr>\n",
       "      <th>2845</th>\n",
       "      <td>everyone worried facetime glitch concerned thi...</td>\n",
       "      <td>-1.0</td>\n",
       "    </tr>\n",
       "    <tr>\n",
       "      <th>690</th>\n",
       "      <td>never expect even get pathetic service</td>\n",
       "      <td>-1.0</td>\n",
       "    </tr>\n",
       "    <tr>\n",
       "      <th>3197</th>\n",
       "      <td>bug nasty happen differentiates act decisively...</td>\n",
       "      <td>-1.0</td>\n",
       "    </tr>\n",
       "    <tr>\n",
       "      <th>6804</th>\n",
       "      <td>dear result slowdown sale china could insanely...</td>\n",
       "      <td>-1.0</td>\n",
       "    </tr>\n",
       "    <tr>\n",
       "      <th>9413</th>\n",
       "      <td>phone par lcd cruel joke</td>\n",
       "      <td>-1.0</td>\n",
       "    </tr>\n",
       "    <tr>\n",
       "      <th>9414</th>\n",
       "      <td>tech company paint company pathetic way sell t...</td>\n",
       "      <td>-1.0</td>\n",
       "    </tr>\n",
       "    <tr>\n",
       "      <th>4662</th>\n",
       "      <td>terrible everyone disable facetime need fix asap</td>\n",
       "      <td>-1.0</td>\n",
       "    </tr>\n",
       "    <tr>\n",
       "      <th>5542</th>\n",
       "      <td>understand default insane keep default situati...</td>\n",
       "      <td>-1.0</td>\n",
       "    </tr>\n",
       "    <tr>\n",
       "      <th>4943</th>\n",
       "      <td>evil bastard make computer usa verge</td>\n",
       "      <td>-1.0</td>\n",
       "    </tr>\n",
       "    <tr>\n",
       "      <th>1018</th>\n",
       "      <td>horrible</td>\n",
       "      <td>-1.0</td>\n",
       "    </tr>\n",
       "    <tr>\n",
       "      <th>7411</th>\n",
       "      <td>terrible build quality accessory paid hundred ...</td>\n",
       "      <td>-1.0</td>\n",
       "    </tr>\n",
       "    <tr>\n",
       "      <th>2393</th>\n",
       "      <td>sans credit still try iron egregious bug dicta...</td>\n",
       "      <td>-1.0</td>\n",
       "    </tr>\n",
       "    <tr>\n",
       "      <th>1867</th>\n",
       "      <td>insane</td>\n",
       "      <td>-1.0</td>\n",
       "    </tr>\n",
       "    <tr>\n",
       "      <th>8082</th>\n",
       "      <td>service pathetic hire bunch idiot as hole serv...</td>\n",
       "      <td>-0.9</td>\n",
       "    </tr>\n",
       "  </tbody>\n",
       "</table>\n",
       "</div>"
      ],
      "text/plain": [
       "                                                   text  sentiment\n",
       "8525  either need fix conference call iphone max hor...       -1.0\n",
       "3213                                  insane ever heard       -1.0\n",
       "3839  nasty facetime bug could allow others eavesdro...       -1.0\n",
       "2759                            assume trading terribly       -1.0\n",
       "1609                          io release nasty surprise       -1.0\n",
       "5201                                 dam facetime nasty       -1.0\n",
       "2845  everyone worried facetime glitch concerned thi...       -1.0\n",
       "690              never expect even get pathetic service       -1.0\n",
       "3197  bug nasty happen differentiates act decisively...       -1.0\n",
       "6804  dear result slowdown sale china could insanely...       -1.0\n",
       "9413                           phone par lcd cruel joke       -1.0\n",
       "9414  tech company paint company pathetic way sell t...       -1.0\n",
       "4662   terrible everyone disable facetime need fix asap       -1.0\n",
       "5542  understand default insane keep default situati...       -1.0\n",
       "4943               evil bastard make computer usa verge       -1.0\n",
       "1018                                           horrible       -1.0\n",
       "7411  terrible build quality accessory paid hundred ...       -1.0\n",
       "2393  sans credit still try iron egregious bug dicta...       -1.0\n",
       "1867                                             insane       -1.0\n",
       "8082  service pathetic hire bunch idiot as hole serv...       -0.9"
      ]
     },
     "execution_count": 106,
     "metadata": {},
     "output_type": "execute_result"
    }
   ],
   "source": [
    "# examine the worst tweets\n",
    "\n",
    "tweets.sort_values(by = 'sentiment', ascending = True)[['text', 'sentiment']].head(20)"
   ]
  },
  {
   "cell_type": "code",
   "execution_count": 107,
   "metadata": {},
   "outputs": [
    {
     "data": {
      "text/html": [
       "<div>\n",
       "<style scoped>\n",
       "    .dataframe tbody tr th:only-of-type {\n",
       "        vertical-align: middle;\n",
       "    }\n",
       "\n",
       "    .dataframe tbody tr th {\n",
       "        vertical-align: top;\n",
       "    }\n",
       "\n",
       "    .dataframe thead th {\n",
       "        text-align: right;\n",
       "    }\n",
       "</style>\n",
       "<table border=\"1\" class=\"dataframe\">\n",
       "  <thead>\n",
       "    <tr style=\"text-align: right;\">\n",
       "      <th></th>\n",
       "      <th>text</th>\n",
       "      <th>sentiment</th>\n",
       "    </tr>\n",
       "  </thead>\n",
       "  <tbody>\n",
       "    <tr>\n",
       "      <th>6626</th>\n",
       "      <td>would take deal already girl best phone ever</td>\n",
       "      <td>1.0</td>\n",
       "    </tr>\n",
       "    <tr>\n",
       "      <th>6230</th>\n",
       "      <td>dear one post video one conversation regard te...</td>\n",
       "      <td>1.0</td>\n",
       "    </tr>\n",
       "    <tr>\n",
       "      <th>6633</th>\n",
       "      <td>whoa best</td>\n",
       "      <td>1.0</td>\n",
       "    </tr>\n",
       "    <tr>\n",
       "      <th>3785</th>\n",
       "      <td>macos server errored mood deal yet another inc...</td>\n",
       "      <td>1.0</td>\n",
       "    </tr>\n",
       "    <tr>\n",
       "      <th>8446</th>\n",
       "      <td>think huawei best mate pro amaze</td>\n",
       "      <td>1.0</td>\n",
       "    </tr>\n",
       "    <tr>\n",
       "      <th>4848</th>\n",
       "      <td>need partner google map navigational voice use...</td>\n",
       "      <td>1.0</td>\n",
       "    </tr>\n",
       "    <tr>\n",
       "      <th>8469</th>\n",
       "      <td>perfect else need</td>\n",
       "      <td>1.0</td>\n",
       "    </tr>\n",
       "    <tr>\n",
       "      <th>3591</th>\n",
       "      <td>lose focus instead pick best technology squeez...</td>\n",
       "      <td>1.0</td>\n",
       "    </tr>\n",
       "    <tr>\n",
       "      <th>4921</th>\n",
       "      <td>hola awesome</td>\n",
       "      <td>1.0</td>\n",
       "    </tr>\n",
       "    <tr>\n",
       "      <th>7897</th>\n",
       "      <td>end filing radar option dock would awesome rep...</td>\n",
       "      <td>1.0</td>\n",
       "    </tr>\n",
       "    <tr>\n",
       "      <th>7128</th>\n",
       "      <td>best hold music gigging wait answer</td>\n",
       "      <td>1.0</td>\n",
       "    </tr>\n",
       "    <tr>\n",
       "      <th>7836</th>\n",
       "      <td>google assistant play music save song go onlin...</td>\n",
       "      <td>1.0</td>\n",
       "    </tr>\n",
       "    <tr>\n",
       "      <th>96</th>\n",
       "      <td>dont know betta ask somebody camera awesome</td>\n",
       "      <td>1.0</td>\n",
       "    </tr>\n",
       "    <tr>\n",
       "      <th>8545</th>\n",
       "      <td>awesome shot sir</td>\n",
       "      <td>1.0</td>\n",
       "    </tr>\n",
       "    <tr>\n",
       "      <th>7831</th>\n",
       "      <td>ecosystem ipad simply magnificent</td>\n",
       "      <td>1.0</td>\n",
       "    </tr>\n",
       "    <tr>\n",
       "      <th>8550</th>\n",
       "      <td>best day marathon ever listen</td>\n",
       "      <td>1.0</td>\n",
       "    </tr>\n",
       "    <tr>\n",
       "      <th>7820</th>\n",
       "      <td>thought camera awesome bec compare pic time fr...</td>\n",
       "      <td>1.0</td>\n",
       "    </tr>\n",
       "    <tr>\n",
       "      <th>7816</th>\n",
       "      <td>iphone max camera awesome</td>\n",
       "      <td>1.0</td>\n",
       "    </tr>\n",
       "    <tr>\n",
       "      <th>3878</th>\n",
       "      <td>believe answer others het privacy invade via i...</td>\n",
       "      <td>1.0</td>\n",
       "    </tr>\n",
       "    <tr>\n",
       "      <th>4826</th>\n",
       "      <td>billboard banner perfect timing</td>\n",
       "      <td>1.0</td>\n",
       "    </tr>\n",
       "  </tbody>\n",
       "</table>\n",
       "</div>"
      ],
      "text/plain": [
       "                                                   text  sentiment\n",
       "6626       would take deal already girl best phone ever        1.0\n",
       "6230  dear one post video one conversation regard te...        1.0\n",
       "6633                                          whoa best        1.0\n",
       "3785  macos server errored mood deal yet another inc...        1.0\n",
       "8446                   think huawei best mate pro amaze        1.0\n",
       "4848  need partner google map navigational voice use...        1.0\n",
       "8469                                  perfect else need        1.0\n",
       "3591  lose focus instead pick best technology squeez...        1.0\n",
       "4921                                       hola awesome        1.0\n",
       "7897  end filing radar option dock would awesome rep...        1.0\n",
       "7128                best hold music gigging wait answer        1.0\n",
       "7836  google assistant play music save song go onlin...        1.0\n",
       "96          dont know betta ask somebody camera awesome        1.0\n",
       "8545                                   awesome shot sir        1.0\n",
       "7831                  ecosystem ipad simply magnificent        1.0\n",
       "8550                      best day marathon ever listen        1.0\n",
       "7820  thought camera awesome bec compare pic time fr...        1.0\n",
       "7816                          iphone max camera awesome        1.0\n",
       "3878  believe answer others het privacy invade via i...        1.0\n",
       "4826                    billboard banner perfect timing        1.0"
      ]
     },
     "execution_count": 107,
     "metadata": {},
     "output_type": "execute_result"
    }
   ],
   "source": [
    "# positive tweets\n",
    "\n",
    "tweets.sort_values(by = 'sentiment', ascending = False)[['text', 'sentiment']].head(20)"
   ]
  },
  {
   "cell_type": "code",
   "execution_count": 108,
   "metadata": {},
   "outputs": [
    {
     "data": {
      "text/plain": [
       "1481"
      ]
     },
     "execution_count": 108,
     "metadata": {},
     "output_type": "execute_result"
    }
   ],
   "source": [
    "# count the positive tweets \n",
    "\n",
    "tweets[tweets['sentiment'] > 0.3]['sentiment'].count()"
   ]
  },
  {
   "cell_type": "code",
   "execution_count": 109,
   "metadata": {},
   "outputs": [
    {
     "data": {
      "text/plain": [
       "790"
      ]
     },
     "execution_count": 109,
     "metadata": {},
     "output_type": "execute_result"
    }
   ],
   "source": [
    "# count the negative tweets\n",
    "\n",
    "tweets[tweets['sentiment'] < - 0.3]['sentiment'].count()"
   ]
  },
  {
   "cell_type": "code",
   "execution_count": 110,
   "metadata": {},
   "outputs": [
    {
     "data": {
      "text/plain": [
       "Sentiment(polarity=0.7, subjectivity=0.6000000000000001)"
      ]
     },
     "execution_count": 110,
     "metadata": {},
     "output_type": "execute_result"
    }
   ],
   "source": [
    "TextBlob('good').sentiment"
   ]
  },
  {
   "cell_type": "code",
   "execution_count": 111,
   "metadata": {},
   "outputs": [
    {
     "data": {
      "text/plain": [
       "Sentiment(polarity=-0.6, subjectivity=0.9)"
      ]
     },
     "execution_count": 111,
     "metadata": {},
     "output_type": "execute_result"
    }
   ],
   "source": [
    "TextBlob('crazy').sentiment"
   ]
  },
  {
   "cell_type": "markdown",
   "metadata": {},
   "source": [
    "## Text Classification"
   ]
  },
  {
   "cell_type": "markdown",
   "metadata": {},
   "source": [
    "#### read in the yelp reviews"
   ]
  },
  {
   "cell_type": "code",
   "execution_count": 112,
   "metadata": {},
   "outputs": [],
   "source": [
    "yelp = pd.read_csv('yelp.csv')"
   ]
  },
  {
   "cell_type": "code",
   "execution_count": 113,
   "metadata": {},
   "outputs": [
    {
     "data": {
      "text/html": [
       "<div>\n",
       "<style scoped>\n",
       "    .dataframe tbody tr th:only-of-type {\n",
       "        vertical-align: middle;\n",
       "    }\n",
       "\n",
       "    .dataframe tbody tr th {\n",
       "        vertical-align: top;\n",
       "    }\n",
       "\n",
       "    .dataframe thead th {\n",
       "        text-align: right;\n",
       "    }\n",
       "</style>\n",
       "<table border=\"1\" class=\"dataframe\">\n",
       "  <thead>\n",
       "    <tr style=\"text-align: right;\">\n",
       "      <th></th>\n",
       "      <th>business_id</th>\n",
       "      <th>date</th>\n",
       "      <th>review_id</th>\n",
       "      <th>stars</th>\n",
       "      <th>text</th>\n",
       "      <th>type</th>\n",
       "      <th>user_id</th>\n",
       "      <th>cool</th>\n",
       "      <th>useful</th>\n",
       "      <th>funny</th>\n",
       "    </tr>\n",
       "  </thead>\n",
       "  <tbody>\n",
       "    <tr>\n",
       "      <th>0</th>\n",
       "      <td>9yKzy9PApeiPPOUJEtnvkg</td>\n",
       "      <td>2011-01-26</td>\n",
       "      <td>fWKvX83p0-ka4JS3dc6E5A</td>\n",
       "      <td>5</td>\n",
       "      <td>My wife took me here on my birthday for breakf...</td>\n",
       "      <td>review</td>\n",
       "      <td>rLtl8ZkDX5vH5nAx9C3q5Q</td>\n",
       "      <td>2</td>\n",
       "      <td>5</td>\n",
       "      <td>0</td>\n",
       "    </tr>\n",
       "    <tr>\n",
       "      <th>1</th>\n",
       "      <td>ZRJwVLyzEJq1VAihDhYiow</td>\n",
       "      <td>2011-07-27</td>\n",
       "      <td>IjZ33sJrzXqU-0X6U8NwyA</td>\n",
       "      <td>5</td>\n",
       "      <td>I have no idea why some people give bad review...</td>\n",
       "      <td>review</td>\n",
       "      <td>0a2KyEL0d3Yb1V6aivbIuQ</td>\n",
       "      <td>0</td>\n",
       "      <td>0</td>\n",
       "      <td>0</td>\n",
       "    </tr>\n",
       "    <tr>\n",
       "      <th>2</th>\n",
       "      <td>6oRAC4uyJCsJl1X0WZpVSA</td>\n",
       "      <td>2012-06-14</td>\n",
       "      <td>IESLBzqUCLdSzSqm0eCSxQ</td>\n",
       "      <td>4</td>\n",
       "      <td>love the gyro plate. Rice is so good and I als...</td>\n",
       "      <td>review</td>\n",
       "      <td>0hT2KtfLiobPvh6cDC8JQg</td>\n",
       "      <td>0</td>\n",
       "      <td>1</td>\n",
       "      <td>0</td>\n",
       "    </tr>\n",
       "    <tr>\n",
       "      <th>3</th>\n",
       "      <td>_1QQZuf4zZOyFCvXc0o6Vg</td>\n",
       "      <td>2010-05-27</td>\n",
       "      <td>G-WvGaISbqqaMHlNnByodA</td>\n",
       "      <td>5</td>\n",
       "      <td>Rosie, Dakota, and I LOVE Chaparral Dog Park!!...</td>\n",
       "      <td>review</td>\n",
       "      <td>uZetl9T0NcROGOyFfughhg</td>\n",
       "      <td>1</td>\n",
       "      <td>2</td>\n",
       "      <td>0</td>\n",
       "    </tr>\n",
       "    <tr>\n",
       "      <th>4</th>\n",
       "      <td>6ozycU1RpktNG2-1BroVtw</td>\n",
       "      <td>2012-01-05</td>\n",
       "      <td>1uJFq2r5QfJG_6ExMRCaGw</td>\n",
       "      <td>5</td>\n",
       "      <td>General Manager Scott Petello is a good egg!!!...</td>\n",
       "      <td>review</td>\n",
       "      <td>vYmM4KTsC8ZfQBg-j5MWkw</td>\n",
       "      <td>0</td>\n",
       "      <td>0</td>\n",
       "      <td>0</td>\n",
       "    </tr>\n",
       "  </tbody>\n",
       "</table>\n",
       "</div>"
      ],
      "text/plain": [
       "              business_id        date               review_id  stars  \\\n",
       "0  9yKzy9PApeiPPOUJEtnvkg  2011-01-26  fWKvX83p0-ka4JS3dc6E5A      5   \n",
       "1  ZRJwVLyzEJq1VAihDhYiow  2011-07-27  IjZ33sJrzXqU-0X6U8NwyA      5   \n",
       "2  6oRAC4uyJCsJl1X0WZpVSA  2012-06-14  IESLBzqUCLdSzSqm0eCSxQ      4   \n",
       "3  _1QQZuf4zZOyFCvXc0o6Vg  2010-05-27  G-WvGaISbqqaMHlNnByodA      5   \n",
       "4  6ozycU1RpktNG2-1BroVtw  2012-01-05  1uJFq2r5QfJG_6ExMRCaGw      5   \n",
       "\n",
       "                                                text    type  \\\n",
       "0  My wife took me here on my birthday for breakf...  review   \n",
       "1  I have no idea why some people give bad review...  review   \n",
       "2  love the gyro plate. Rice is so good and I als...  review   \n",
       "3  Rosie, Dakota, and I LOVE Chaparral Dog Park!!...  review   \n",
       "4  General Manager Scott Petello is a good egg!!!...  review   \n",
       "\n",
       "                  user_id  cool  useful  funny  \n",
       "0  rLtl8ZkDX5vH5nAx9C3q5Q     2       5      0  \n",
       "1  0a2KyEL0d3Yb1V6aivbIuQ     0       0      0  \n",
       "2  0hT2KtfLiobPvh6cDC8JQg     0       1      0  \n",
       "3  uZetl9T0NcROGOyFfughhg     1       2      0  \n",
       "4  vYmM4KTsC8ZfQBg-j5MWkw     0       0      0  "
      ]
     },
     "execution_count": 113,
     "metadata": {},
     "output_type": "execute_result"
    }
   ],
   "source": [
    "yelp.head()"
   ]
  },
  {
   "cell_type": "markdown",
   "metadata": {},
   "source": [
    "#### we want to build a model that predicts whether a body of text returns 1 or 5 stars"
   ]
  },
  {
   "cell_type": "code",
   "execution_count": 114,
   "metadata": {},
   "outputs": [],
   "source": [
    "# create new DF that only has 1 and 5 stars\n",
    "\n",
    "yelp_best_worst = yelp[(yelp.stars ==5) | (yelp.stars == 1)]"
   ]
  },
  {
   "cell_type": "code",
   "execution_count": 115,
   "metadata": {},
   "outputs": [],
   "source": [
    "# define X and y\n",
    "\n",
    "X = yelp_best_worst.text \n",
    "y = yelp_best_worst.stars"
   ]
  },
  {
   "cell_type": "code",
   "execution_count": 116,
   "metadata": {},
   "outputs": [],
   "source": [
    "# split the new dataframe into training and testing\n",
    "\n",
    "from sklearn.model_selection import train_test_split\n",
    "\n",
    "X_train, X_test, y_train, y_test = train_test_split(X,y, random_state=1)"
   ]
  },
  {
   "cell_type": "markdown",
   "metadata": {},
   "source": [
    "### Creating features using CountVectorizer "
   ]
  },
  {
   "cell_type": "code",
   "execution_count": 117,
   "metadata": {},
   "outputs": [],
   "source": [
    "# use the CountVectorizer to create a document term matrices from X_train and X_test \n",
    "\n",
    "vect = CountVectorizer()\n",
    "\n",
    "X_train_dtm = vect.fit_transform(X_train)\n",
    "X_test_dtm = vect.transform(X_test)"
   ]
  },
  {
   "cell_type": "code",
   "execution_count": 118,
   "metadata": {},
   "outputs": [
    {
     "data": {
      "text/plain": [
       "(3064, 16825)"
      ]
     },
     "execution_count": 118,
     "metadata": {},
     "output_type": "execute_result"
    }
   ],
   "source": [
    "X_train_dtm.shape"
   ]
  },
  {
   "cell_type": "code",
   "execution_count": 122,
   "metadata": {},
   "outputs": [
    {
     "data": {
      "text/plain": [
       "['00',\n",
       " '000',\n",
       " '00a',\n",
       " '00am',\n",
       " '00pm',\n",
       " '01',\n",
       " '02',\n",
       " '03',\n",
       " '03342',\n",
       " '04',\n",
       " '05',\n",
       " '06',\n",
       " '07',\n",
       " '09',\n",
       " '0buxoc0crqjpvkezo3bqog',\n",
       " '0l',\n",
       " '10',\n",
       " '100',\n",
       " '1000',\n",
       " '1000x',\n",
       " '1001',\n",
       " '100th',\n",
       " '101',\n",
       " '102',\n",
       " '105',\n",
       " '1070',\n",
       " '108',\n",
       " '10am',\n",
       " '10ish',\n",
       " '10min',\n",
       " '10mins',\n",
       " '10minutes',\n",
       " '10pm',\n",
       " '10th',\n",
       " '10x',\n",
       " '11',\n",
       " '110',\n",
       " '1100',\n",
       " '111',\n",
       " '111th',\n",
       " '112',\n",
       " '115th',\n",
       " '118',\n",
       " '11a',\n",
       " '11am',\n",
       " '11p',\n",
       " '11pm',\n",
       " '12',\n",
       " '120',\n",
       " '128i']"
      ]
     },
     "execution_count": 122,
     "metadata": {},
     "output_type": "execute_result"
    }
   ],
   "source": [
    "# furst 50 features\n",
    "\n",
    "vect.get_feature_names()[:50]"
   ]
  },
  {
   "cell_type": "code",
   "execution_count": 121,
   "metadata": {},
   "outputs": [
    {
     "data": {
      "text/plain": [
       "['yyyyy',\n",
       " 'z11',\n",
       " 'za',\n",
       " 'zabba',\n",
       " 'zach',\n",
       " 'zam',\n",
       " 'zanella',\n",
       " 'zankou',\n",
       " 'zappos',\n",
       " 'zatsiki',\n",
       " 'zen',\n",
       " 'zero',\n",
       " 'zest',\n",
       " 'zexperience',\n",
       " 'zha',\n",
       " 'zhou',\n",
       " 'zia',\n",
       " 'zihuatenejo',\n",
       " 'zilch',\n",
       " 'zin',\n",
       " 'zinburger',\n",
       " 'zinburgergeist',\n",
       " 'zinc',\n",
       " 'zinfandel',\n",
       " 'zing',\n",
       " 'zip',\n",
       " 'zipcar',\n",
       " 'zipper',\n",
       " 'zippers',\n",
       " 'zipps',\n",
       " 'ziti',\n",
       " 'zoe',\n",
       " 'zombi',\n",
       " 'zombies',\n",
       " 'zone',\n",
       " 'zones',\n",
       " 'zoning',\n",
       " 'zoo',\n",
       " 'zoyo',\n",
       " 'zucca',\n",
       " 'zucchini',\n",
       " 'zuchinni',\n",
       " 'zumba',\n",
       " 'zupa',\n",
       " 'zuzu',\n",
       " 'zwiebel',\n",
       " 'zzed',\n",
       " 'éclairs',\n",
       " 'école',\n",
       " 'ém']"
      ]
     },
     "execution_count": 121,
     "metadata": {},
     "output_type": "execute_result"
    }
   ],
   "source": [
    "# get last 50\n",
    "\n",
    "vect.get_feature_names()[-50:]"
   ]
  },
  {
   "cell_type": "code",
   "execution_count": 125,
   "metadata": {},
   "outputs": [],
   "source": [
    "# use logistic regression to predict the star rating \n",
    "\n",
    "from sklearn.linear_model import LogisticRegression \n",
    "\n",
    "lr = LogisticRegression(max_iter = 1000)\n",
    "lr.fit(X_train_dtm, y_train)\n",
    "\n",
    "y_pred = lr.predict(X_test_dtm)"
   ]
  },
  {
   "cell_type": "code",
   "execution_count": 126,
   "metadata": {},
   "outputs": [
    {
     "data": {
      "text/plain": [
       "array([5, 1, 5, ..., 5, 1, 5], dtype=int64)"
      ]
     },
     "execution_count": 126,
     "metadata": {},
     "output_type": "execute_result"
    }
   ],
   "source": [
    "y_pred"
   ]
  },
  {
   "cell_type": "code",
   "execution_count": 127,
   "metadata": {},
   "outputs": [],
   "source": [
    "df = pd.DataFrame({'Actual' : y_test, 'Predicted' : y_pred})"
   ]
  },
  {
   "cell_type": "code",
   "execution_count": 128,
   "metadata": {},
   "outputs": [
    {
     "data": {
      "text/html": [
       "<div>\n",
       "<style scoped>\n",
       "    .dataframe tbody tr th:only-of-type {\n",
       "        vertical-align: middle;\n",
       "    }\n",
       "\n",
       "    .dataframe tbody tr th {\n",
       "        vertical-align: top;\n",
       "    }\n",
       "\n",
       "    .dataframe thead th {\n",
       "        text-align: right;\n",
       "    }\n",
       "</style>\n",
       "<table border=\"1\" class=\"dataframe\">\n",
       "  <thead>\n",
       "    <tr style=\"text-align: right;\">\n",
       "      <th></th>\n",
       "      <th>Actual</th>\n",
       "      <th>Predicted</th>\n",
       "    </tr>\n",
       "  </thead>\n",
       "  <tbody>\n",
       "    <tr>\n",
       "      <th>3922</th>\n",
       "      <td>5</td>\n",
       "      <td>5</td>\n",
       "    </tr>\n",
       "    <tr>\n",
       "      <th>8379</th>\n",
       "      <td>5</td>\n",
       "      <td>1</td>\n",
       "    </tr>\n",
       "    <tr>\n",
       "      <th>4266</th>\n",
       "      <td>5</td>\n",
       "      <td>5</td>\n",
       "    </tr>\n",
       "    <tr>\n",
       "      <th>5577</th>\n",
       "      <td>5</td>\n",
       "      <td>5</td>\n",
       "    </tr>\n",
       "    <tr>\n",
       "      <th>537</th>\n",
       "      <td>5</td>\n",
       "      <td>5</td>\n",
       "    </tr>\n",
       "    <tr>\n",
       "      <th>...</th>\n",
       "      <td>...</td>\n",
       "      <td>...</td>\n",
       "    </tr>\n",
       "    <tr>\n",
       "      <th>6846</th>\n",
       "      <td>5</td>\n",
       "      <td>5</td>\n",
       "    </tr>\n",
       "    <tr>\n",
       "      <th>1588</th>\n",
       "      <td>5</td>\n",
       "      <td>5</td>\n",
       "    </tr>\n",
       "    <tr>\n",
       "      <th>8451</th>\n",
       "      <td>5</td>\n",
       "      <td>5</td>\n",
       "    </tr>\n",
       "    <tr>\n",
       "      <th>7903</th>\n",
       "      <td>5</td>\n",
       "      <td>1</td>\n",
       "    </tr>\n",
       "    <tr>\n",
       "      <th>8255</th>\n",
       "      <td>5</td>\n",
       "      <td>5</td>\n",
       "    </tr>\n",
       "  </tbody>\n",
       "</table>\n",
       "<p>1022 rows × 2 columns</p>\n",
       "</div>"
      ],
      "text/plain": [
       "      Actual  Predicted\n",
       "3922       5          5\n",
       "8379       5          1\n",
       "4266       5          5\n",
       "5577       5          5\n",
       "537        5          5\n",
       "...      ...        ...\n",
       "6846       5          5\n",
       "1588       5          5\n",
       "8451       5          5\n",
       "7903       5          1\n",
       "8255       5          5\n",
       "\n",
       "[1022 rows x 2 columns]"
      ]
     },
     "execution_count": 128,
     "metadata": {},
     "output_type": "execute_result"
    }
   ],
   "source": [
    "df"
   ]
  },
  {
   "cell_type": "markdown",
   "metadata": {},
   "source": [
    "### Model Evaluation using Confusion Matrix "
   ]
  },
  {
   "cell_type": "code",
   "execution_count": 129,
   "metadata": {},
   "outputs": [
    {
     "data": {
      "text/plain": [
       "array([[140,  44],\n",
       "       [ 32, 806]], dtype=int64)"
      ]
     },
     "execution_count": 129,
     "metadata": {},
     "output_type": "execute_result"
    }
   ],
   "source": [
    "from sklearn import metrics \n",
    "\n",
    "cnf_matrix = metrics.confusion_matrix(y_test, y_pred)\n",
    "cnf_matrix"
   ]
  },
  {
   "cell_type": "code",
   "execution_count": 131,
   "metadata": {},
   "outputs": [
    {
     "data": {
      "text/plain": [
       "Text(0.5, 257.44, 'Predicted label')"
      ]
     },
     "execution_count": 131,
     "metadata": {},
     "output_type": "execute_result"
    },
    {
     "data": {
      "image/png": "[encoded data removed]",
      "text/plain": [
       "<Figure size 432x288 with 2 Axes>"
      ]
     },
     "metadata": {
      "needs_background": "light"
     },
     "output_type": "display_data"
    }
   ],
   "source": [
    "import numpy as np\n",
    "\n",
    "# create a heatmap \n",
    "class_names = [1,5]\n",
    "\n",
    "fig, ax = plt.subplots()\n",
    "tick_marks = np.arange(len(class_names))\n",
    "plt.xticks(tick_marks, class_names)\n",
    "plt.yticks(tick_marks, class_names)\n",
    "\n",
    "# Create the heatmap\n",
    "\n",
    "sns.heatmap(pd.DataFrame(cnf_matrix), annot = True, cmap = 'YlGnBu', fmt = 'g')\n",
    "ax.xaxis.set_label_position('top')\n",
    "plt.tight_layout()\n",
    "plt.title('Confusion Matrix', y =1.1)\n",
    "plt.ylabel('Actual label')\n",
    "plt.xlabel('Predicted label')"
   ]
  },
  {
   "cell_type": "code",
   "execution_count": 134,
   "metadata": {},
   "outputs": [
    {
     "data": {
      "text/html": [
       "<div>\n",
       "<style scoped>\n",
       "    .dataframe tbody tr th:only-of-type {\n",
       "        vertical-align: middle;\n",
       "    }\n",
       "\n",
       "    .dataframe tbody tr th {\n",
       "        vertical-align: top;\n",
       "    }\n",
       "\n",
       "    .dataframe thead th {\n",
       "        text-align: right;\n",
       "    }\n",
       "</style>\n",
       "<table border=\"1\" class=\"dataframe\">\n",
       "  <thead>\n",
       "    <tr style=\"text-align: right;\">\n",
       "      <th></th>\n",
       "      <th>Actual *</th>\n",
       "      <th>Actual *****</th>\n",
       "    </tr>\n",
       "  </thead>\n",
       "  <tbody>\n",
       "    <tr>\n",
       "      <th>Predict *</th>\n",
       "      <td>140</td>\n",
       "      <td>32</td>\n",
       "    </tr>\n",
       "    <tr>\n",
       "      <th>Predict *****</th>\n",
       "      <td>44</td>\n",
       "      <td>806</td>\n",
       "    </tr>\n",
       "  </tbody>\n",
       "</table>\n",
       "</div>"
      ],
      "text/plain": [
       "               Actual *  Actual *****\n",
       "Predict *           140            32\n",
       "Predict *****        44           806"
      ]
     },
     "execution_count": 134,
     "metadata": {},
     "output_type": "execute_result"
    }
   ],
   "source": [
    "from sklearn.metrics import confusion_matrix \n",
    "pd.DataFrame(confusion_matrix(y_pred, y_test), index = ['Predict *', 'Predict *****'], columns = ['Actual *', 'Actual *****'])"
   ]
  },
  {
   "cell_type": "code",
   "execution_count": 135,
   "metadata": {},
   "outputs": [
    {
     "name": "stdout",
     "output_type": "stream",
     "text": [
      "              precision    recall  f1-score   support\n",
      "\n",
      "           1       0.81      0.76      0.79       184\n",
      "           5       0.95      0.96      0.95       838\n",
      "\n",
      "    accuracy                           0.93      1022\n",
      "   macro avg       0.88      0.86      0.87      1022\n",
      "weighted avg       0.92      0.93      0.92      1022\n",
      "\n"
     ]
    }
   ],
   "source": [
    "print(metrics.classification_report(y_test, y_pred))"
   ]
  },
  {
   "cell_type": "code",
   "execution_count": 136,
   "metadata": {},
   "outputs": [],
   "source": [
    "# from here we could go back and remove the stop words, and we could lemitize the data and clean tha data better\n",
    "# and could repeat this logistic regression \n",
    "# we could see if our accuracy improved or not"
   ]
  },
  {
   "cell_type": "code",
   "execution_count": null,
   "metadata": {},
   "outputs": [],
   "source": []
  }
 ],
 "metadata": {
  "kernelspec": {
   "display_name": "Python 3",
   "language": "python",
   "name": "python3"
  },
  "language_info": {
   "codemirror_mode": {
    "name": "ipython",
    "version": 3
   },
   "file_extension": ".py",
   "mimetype": "text/x-python",
   "name": "python",
   "nbconvert_exporter": "python",
   "pygments_lexer": "ipython3",
   "version": "3.7.6"
  }
 },
 "nbformat": 4,
 "nbformat_minor": 4
}
